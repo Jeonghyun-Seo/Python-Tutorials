{
 "cells": [
  {
   "cell_type": "markdown",
   "metadata": {},
   "source": [
    "# NumPy arrays\n",
    "Click [here](https://datahub.berkeley.edu/hub/user-redirect/git-pull?repo=https%3A%2F%2Fgithub.com%2Fberkeley-physics%2FPython-Tutorials&urlpath=tree%2FPython-Tutorials%2F2+-+Intermediate%2F3+-+NumPy+arrays.ipynb&branch=master) to open this notebook in the DataHub.\n",
    "\n",
    "## Learning objectives\n",
    "By the end of this tutorial, you will be able to:\n",
    "- Distinguish between NumPy arrays and Python lists\n",
    "- Construct arrays efficiently\n",
    "- Do linear algebra with NumPy arrays\n",
    "- Index, reshape, and broadcast NumPy arrays\n",
    "- Manipulate and perform computations with multi-dimensional NumPy arrays\n",
    "- Make plots of scalar, two-dimensional data\n",
    "\n",
    "## Relevant documentation\n",
    "- [IPython magics](https://ipython.readthedocs.io/en/stable/interactive/magics.html)\n",
    "- [NumPy array construction guide](https://numpy.org/doc/stable/user/basics.creation.html)\n",
    "- [NumPy indexing guide](https://numpy.org/doc/stable/user/basics.indexing.html)\n",
    "- [NumPy `linalg` module](https://numpy.org/doc/stable/reference/routines.linalg.html)\n",
    "- [NumPy broadcasting guide](https://numpy.org/doc/stable/user/basics.broadcasting.html)\n",
    "- [`mplot3d` tutorial](https://matplotlib.org/mpl_toolkits/mplot3d/tutorial.html)\n",
    "- [matplotlib colormap guide](https://matplotlib.org/3.1.0/tutorials/colors/colormaps.html)\n",
    "\n",
    "## Lists vs arrays\n",
    "Python lists are dynamic and flexible. You can change the legth of a list by adding or removing entries, and you can add entries of any type. NumPy arrays, on the other hand, are more rigid: their length is immutable and all the entries must have the same type, given by the data type of the array. \n",
    "\n",
    "Computations with NumPy arrays are faster than those with lists, because they can take advantage of these additional constraints to implement these computations more efficiently. Suppose we wanted to create a list-like object that contains $n^3$ for $n$ upto some large $N$. The following cells do that in various ways. Run them and see which is the fastest. (The `%%timeit` command is an _IPython magic_ that times the execution of a cell several times and prints the statistics. The `%timeit` magic times the execution of a single line. Use the similar `time` magic to time the execution only once.)"
   ]
  },
  {
   "cell_type": "code",
   "execution_count": null,
   "metadata": {},
   "outputs": [],
   "source": [
    "import numpy as np\n",
    "\n",
    "N = 10000"
   ]
  },
  {
   "cell_type": "code",
   "execution_count": null,
   "metadata": {},
   "outputs": [],
   "source": [
    "%%timeit\n",
    "\n",
    "python_list = []\n",
    "for n in range(N):\n",
    "    python_list.append(n**3)"
   ]
  },
  {
   "cell_type": "code",
   "execution_count": null,
   "metadata": {},
   "outputs": [],
   "source": [
    "%timeit list_comp = [n**3 for n in range(N)] #list comprehensions are slightly faster"
   ]
  },
  {
   "cell_type": "code",
   "execution_count": null,
   "metadata": {},
   "outputs": [],
   "source": [
    "%timeit numpy_array = np.arange(N)**3"
   ]
  },
  {
   "cell_type": "markdown",
   "metadata": {},
   "source": [
    "NumPy arrays are convenient because they can be treated like numbers, and arithmetic operations between arrays of the same size are equivalent to the same arithemtic being done element-wise between the two arrays."
   ]
  },
  {
   "cell_type": "code",
   "execution_count": null,
   "metadata": {},
   "outputs": [],
   "source": [
    "a = [1,2,3]\n",
    "b = [4,5,6]\n",
    "\n",
    "a_arr = np.array(a)\n",
    "b_arr = np.array(b)\n",
    "\n",
    "print(a_arr + b_arr)\n",
    "print(a+b)"
   ]
  },
  {
   "cell_type": "code",
   "execution_count": null,
   "metadata": {},
   "outputs": [],
   "source": [
    "print(a_arr*2)\n",
    "print(a*2)"
   ]
  },
  {
   "cell_type": "code",
   "execution_count": null,
   "metadata": {},
   "outputs": [],
   "source": [
    "print(a_arr>2)\n",
    "print(a>2)"
   ]
  },
  {
   "cell_type": "markdown",
   "metadata": {},
   "source": [
    "This allows us to write functions that work for both individual numbers as well as arrays. Write your own (numerical) function below, and compare its execution on a list to that on an array."
   ]
  },
  {
   "cell_type": "code",
   "execution_count": null,
   "metadata": {},
   "outputs": [],
   "source": [
    "def f(x):\n",
    "    return x**2 #change me\n",
    "\n",
    "%timeit [f(x) for x in range(N)]\n",
    "%timeit f(np.arange(N))"
   ]
  },
  {
   "cell_type": "markdown",
   "metadata": {},
   "source": [
    "Doing computation on NumPy arrays directly instead of looping through elements (vectorisation) is much faster because the for loop is executed in a low-level language that allows the code execution to be micromanaged and optimised, unlike Python, which is a high-level language built for convenience. The most efficient code in Python transfers as much computation as possible to lower-level languages.\n",
    "\n",
    "## Array constructors\n",
    "You can create NumPy arrays by converting Python lists (that are all of the same type), or reading suitably stored data from a file. You should have already seen some examples of this. In this section we will go over how to construct arrays within NumPy.\n",
    "\n",
    "The `zeros` and `ones` functions construct arrays of a given length and datatype (defaulting to floats)."
   ]
  },
  {
   "cell_type": "code",
   "execution_count": null,
   "metadata": {},
   "outputs": [],
   "source": [
    "np.zeros(5)"
   ]
  },
  {
   "cell_type": "code",
   "execution_count": null,
   "metadata": {},
   "outputs": [],
   "source": [
    "np.zeros(10, dtype=int)"
   ]
  },
  {
   "cell_type": "code",
   "execution_count": null,
   "metadata": {},
   "outputs": [],
   "source": [
    "np.ones(3)"
   ]
  },
  {
   "cell_type": "code",
   "execution_count": null,
   "metadata": {},
   "outputs": [],
   "source": [
    "np.ones(6, dtype=bool)"
   ]
  },
  {
   "cell_type": "markdown",
   "metadata": {},
   "source": [
    "The `linspace(start, end, number)` function is especially useful to create arrays sampling values, e.g. for plotting. For example, here is a plot of $x$ vs. $x^2$."
   ]
  },
  {
   "cell_type": "code",
   "execution_count": null,
   "metadata": {},
   "outputs": [],
   "source": [
    "%matplotlib inline\n",
    "from matplotlib import pyplot as plt\n",
    "\n",
    "x = np.linspace(0,5,26) #26 samples from 0 to 5\n",
    "y = np.sin(2*x)\n",
    "\n",
    "plt.scatter(x, y)\n",
    "plt.xlabel(\"$x$\")\n",
    "plt.ylabel(\"$x^2$\")"
   ]
  },
  {
   "cell_type": "markdown",
   "metadata": {},
   "source": [
    "The `logspace` constructor similarly creates an array evenly spaced in log-space, which is useful for log-scaled plots. To tell `matplotlib` to use log-scaling on the axes, you can use `plt.loglog()` instead of `plt.plot()` or use the object-oriented approach to adjust the scale for each axis (for more information see the tutorial on objects)."
   ]
  },
  {
   "cell_type": "markdown",
   "metadata": {},
   "source": [
    "## Indexing arrays\n",
    "Numpy arrays can be indexed by the default python syntax. The following works for both python lists and numpy arrays: \n",
    "- `array[index]` returns the element at position `index` (starting from 0). You can also index backwards, using `-1` to mean the last element, onward.\n",
    "- `array[start:end:step]` returns a new array containing the specified elements of the original array (starting at index `start`, and moving `step` indices for each element, upto but not including index `end`). If no values are passed between colons, the reasonable defaults are assumed."
   ]
  },
  {
   "cell_type": "code",
   "execution_count": null,
   "metadata": {},
   "outputs": [],
   "source": [
    "x"
   ]
  },
  {
   "cell_type": "code",
   "execution_count": null,
   "metadata": {},
   "outputs": [],
   "source": [
    "x[2] #third element"
   ]
  },
  {
   "cell_type": "code",
   "execution_count": null,
   "metadata": {},
   "outputs": [],
   "source": [
    "x[-2] #second-to-last element"
   ]
  },
  {
   "cell_type": "code",
   "execution_count": null,
   "metadata": {},
   "outputs": [],
   "source": [
    "x[2:4] #third, fourth element"
   ]
  },
  {
   "cell_type": "code",
   "execution_count": null,
   "metadata": {},
   "outputs": [],
   "source": [
    "x[:3] #up to third element"
   ]
  },
  {
   "cell_type": "code",
   "execution_count": null,
   "metadata": {},
   "outputs": [],
   "source": [
    "x[-4:] #last four elements"
   ]
  },
  {
   "cell_type": "code",
   "execution_count": null,
   "metadata": {},
   "outputs": [],
   "source": [
    "x[:] #all elements (useful for copying an array or for assigning it a constant value)"
   ]
  },
  {
   "cell_type": "code",
   "execution_count": null,
   "metadata": {},
   "outputs": [],
   "source": [
    "x[::-1] #reverse the array"
   ]
  },
  {
   "cell_type": "code",
   "execution_count": null,
   "metadata": {},
   "outputs": [],
   "source": [
    "plt.scatter(x[::2],y[::2]) #use only every second element"
   ]
  },
  {
   "cell_type": "markdown",
   "metadata": {},
   "source": [
    "From the array `x`, try to obtain the following arrays by splicing:\n",
    "- the integers 0-5\n",
    "- the numbers greater than or equal to 2\n",
    "- the integers 4-2 (in reverse order)\n",
    "- the numbers ending with .4"
   ]
  },
  {
   "cell_type": "code",
   "execution_count": null,
   "metadata": {},
   "outputs": [],
   "source": [
    "#try your hand at splicing!"
   ]
  },
  {
   "cell_type": "markdown",
   "metadata": {},
   "source": [
    "Numpy arrays generalise these further. Here we'll show you two ways to index arrays that won't work with lists.\n",
    "\n",
    "One is to pass for the index an array-like object of Booleans of the same shape as the array, which will keep the elements whose corresponding Boolean is `True`."
   ]
  },
  {
   "cell_type": "code",
   "execution_count": null,
   "metadata": {},
   "outputs": [],
   "source": [
    "a = np.array([1,2,3,4,5])\n",
    "a[[True, False, False, True, True]]"
   ]
  },
  {
   "cell_type": "markdown",
   "metadata": {},
   "source": [
    "Suppose we only cared about non-negative `y` values. Use the following Boolean array `b` to create sub-arrays of `x` and `y` corresponding to those pairs where $y\\geq0$, and make a scatter-plot."
   ]
  },
  {
   "cell_type": "code",
   "execution_count": null,
   "metadata": {},
   "outputs": [],
   "source": [
    "b = y >= 0\n",
    "print(b)"
   ]
  },
  {
   "cell_type": "code",
   "execution_count": null,
   "metadata": {},
   "outputs": [],
   "source": [
    "x_nonneg = #fill me in\n",
    "y_nonneg = #fill me in\n",
    "\n",
    "plt.scatter(x_nonneg, y_nonneg)"
   ]
  },
  {
   "cell_type": "markdown",
   "metadata": {},
   "source": [
    "Another convenient way to splice numpy arrays (but not lists) is to index it with an array (or array-like object) of indices, to obtain an array of elements corresponding to the indices. This is perhaps easier to show than explain:"
   ]
  },
  {
   "cell_type": "code",
   "execution_count": null,
   "metadata": {},
   "outputs": [],
   "source": [
    "a = x[[0,1,2,1,-1]]\n",
    "a"
   ]
  },
  {
   "cell_type": "markdown",
   "metadata": {},
   "source": [
    "One example of how this could be used is as follows: suppose instead of `x` and `y` we were given the arrays `x_shuff` and `y_shuff`, which are `x` and `y` but out of order. "
   ]
  },
  {
   "cell_type": "code",
   "execution_count": null,
   "metadata": {},
   "outputs": [],
   "source": [
    "x_shuff = np.array(\n",
    "    [1.4, 2.0, 0.0, 4.0, 5.0, 3.4, 1.0, 4.2, 0.2, 1.6, 3.6, 1.8, 0.8, 3.0, 0.6, 2.8, 3.2, 4.4, 2.4, 2.2, \n",
    "     2.6, 3.8, 4.8, 1.2, 0.4, 4.6]\n",
    ")\n",
    "y_shuff = np.array(\n",
    "    [0.33498815015590466, -0.7568024953079282, 0.0, 0.9893582466233818, -0.5440211108893698, \n",
    "     0.49411335113860894, 0.9092974268256817, 0.8545989080882804, 0.3894183423086505, -0.058374143427580086, \n",
    "     0.7936678638491531, -0.44252044329485246, 0.9995736030415051, -0.27941549819892586, 0.9320390859672264, \n",
    "     -0.6312666378723208, 0.11654920485049364, 0.5849171928917617, -0.9961646088358406, -0.951602073889516, \n",
    "     -0.8834546557201531, 0.9679196720314865, -0.1743267812229814, 0.6754631805511506, 0.7173560908995228, \n",
    "     0.22288991410024592]\n",
    ")\n",
    "\n",
    "plt.scatter(x_shuff, y_shuff)"
   ]
  },
  {
   "cell_type": "markdown",
   "metadata": {},
   "source": [
    "While it displays fine in a scatter-plot, consider what happens if we try to connect the dots out-of-order:"
   ]
  },
  {
   "cell_type": "code",
   "execution_count": null,
   "metadata": {},
   "outputs": [],
   "source": [
    "plt.plot(x_shuff,y_shuff)\n",
    "#plt.plot(x,y) #compare with this (though in this game this is cheating since we don't know what x and y are)"
   ]
  },
  {
   "cell_type": "markdown",
   "metadata": {},
   "source": [
    "Thus we'd like to put `x_shuff` and `y_shuff` in increasing order of `x`. The numpy function `sort` ([docs](https://numpy.org/doc/stable/reference/generated/numpy.sort.html#numpy.sort)) does this for us, as shown below. Does this give us the correct plot? Why or why not?"
   ]
  },
  {
   "cell_type": "code",
   "execution_count": null,
   "metadata": {},
   "outputs": [],
   "source": [
    "x_sort = np.sort(x_shuff)\n",
    "print(x_sort)"
   ]
  },
  {
   "cell_type": "code",
   "execution_count": null,
   "metadata": {},
   "outputs": [],
   "source": [
    "plt.plot(x_sort, y_shuff)"
   ]
  },
  {
   "cell_type": "markdown",
   "metadata": {},
   "source": [
    "The above approach did not work because the `y` array was still shuffled, and we are using mismatched $x,y$ pairs. To do this, we can use the numpy function `argsort` ([docs](https://numpy.org/doc/stable/reference/generated/numpy.argsort.html#numpy.argsort)) that returns the _indices_ of the `x_shuff` elements in increasing order, stored as an array `indices`. Use it to find the sorted arrays `x_sort` and `y_sort` and plot them. \n",
    "\n",
    "(Hint: remember, we're learning how to index arrays using arrays of integers corresponding to indices.)"
   ]
  },
  {
   "cell_type": "code",
   "execution_count": null,
   "metadata": {},
   "outputs": [],
   "source": [
    "indices = np.argsort(x_shuff)\n",
    "print(indices)"
   ]
  },
  {
   "cell_type": "code",
   "execution_count": null,
   "metadata": {},
   "outputs": [],
   "source": [
    "x_sort = #fill me in\n",
    "y_sort = #fill me in\n",
    "\n",
    "plt.plot(x_sort,y_sort)"
   ]
  },
  {
   "cell_type": "markdown",
   "metadata": {},
   "source": [
    "## Linear algebra\n",
    "It is useful to think of NumPy arrays as vectors. In this section we will do some linear algebra using NumPy arrays as vectors. Let's start with 2d vectors, which are easy to plot. The following cell defines a few random vectors pointing from the origin to the $[0,1]\\times[0,1]$ square, and plots them. (Read the random sampling tutorial for more about generating pseudo-random numbers.)"
   ]
  },
  {
   "cell_type": "code",
   "execution_count": null,
   "metadata": {},
   "outputs": [],
   "source": [
    "vectors = [] #vectorise me (replace with a numpy array)\n",
    "N = 5\n",
    "for i in range(N):\n",
    "    vectors.append(np.random.uniform(size=2))"
   ]
  },
  {
   "cell_type": "code",
   "execution_count": null,
   "metadata": {},
   "outputs": [],
   "source": [
    "for vec in vectors:\n",
    "    plt.quiver(0, 0, vec[0], vec[1], scale=1, scale_units=\"xy\", angles=\"xy\")\n",
    "plt.xlim(-1.5,1.5)\n",
    "plt.ylim(-1.5,1.5)\n",
    "plt.gca().set_aspect(\"equal\")"
   ]
  },
  {
   "cell_type": "markdown",
   "metadata": {},
   "source": [
    "As we discussed earlier, we should avoid using lists where we can easily replace it with NumPy arrays. The above is one example: we can replace the list of numpy arrays `vectors` with a single 2-dimensional numpy array. Like a 1d (flat) numpy array is a vector, a 2d numpy array is a matrix, and higher dimensional arrays are like tensors. A multi-dimensional numpy array is simply a 1d array with a shape, in that the elements are ultimately stored sequentially in memory. The shape tells numpy how to access certain elements, so we can pretend to have higher-dimensional data structures. Think of how a $M\\times N$ matrix might carry the same information as a $MN$-dimensional vector. \n",
    "\n",
    "Every numpy array has a `shape` attribute, which is the tuple containing the number of elements in each _axis,_ e.g. $(M,N)$. The length of this tuple is the \"rank\" of the \"tensor\", which is stored in the `ndim` attribute. Since ultimately each array is stored flat, this only changes the way we address the elements. This means changing the shape of an array is quick and easy, using the `reshape` method ([docs](https://numpy.org/doc/stable/reference/generated/numpy.ndarray.reshape.html)), passing in a tuple whose product is the same as the current shape (where do you think this requirement comes from?). If you pass in `-1` as the size of (at most) one axis, it will deduce the size automatically. You can use the `flatten` method ([docs](https://numpy.org/doc/stable/reference/generated/numpy.ndarray.flatten.html)) to make any array one-dimensional."
   ]
  },
  {
   "cell_type": "code",
   "execution_count": null,
   "metadata": {},
   "outputs": [],
   "source": [
    "a = np.arange(24) #try reshaping this \"vector\"\n",
    "print(a)\n",
    "a.shape"
   ]
  },
  {
   "cell_type": "code",
   "execution_count": null,
   "metadata": {},
   "outputs": [],
   "source": [
    "b = a.reshape((3,-1)) #a 3x8 \"matrix\"\n",
    "print(b)\n",
    "b.shape"
   ]
  },
  {
   "cell_type": "code",
   "execution_count": null,
   "metadata": {},
   "outputs": [],
   "source": [
    "c = a.reshape((3,2,4)) #a 3x2x4 \"rank-3 tensor\"\n",
    "print(c)\n",
    "c.ndim \n",
    "#try making a higher-dimensional array (challenge: reshape a into an array with ndim == 10)"
   ]
  },
  {
   "cell_type": "code",
   "execution_count": null,
   "metadata": {},
   "outputs": [],
   "source": [
    "print(c.flatten()) #\"back\" to a \"vector\""
   ]
  },
  {
   "cell_type": "code",
   "execution_count": null,
   "metadata": {},
   "outputs": [],
   "source": [
    "a.reshape((5,-1))"
   ]
  },
  {
   "cell_type": "markdown",
   "metadata": {},
   "source": [
    "In the case above, we would set `vectors` to a 2d numpy array with shape `(N,2)` (or `(2,N)`). Try doing it yourself, by changing the size of the array of random numbers we get from the RNG, and reshaping it. \n",
    "\n",
    "The _vectorised_ code is below. Note how we seem to have gotten rid of the loops."
   ]
  },
  {
   "cell_type": "code",
   "execution_count": null,
   "metadata": {},
   "outputs": [],
   "source": [
    "vectors = np.random.uniform(size=2*N).reshape((2,-1))\n",
    "\n",
    "plt.quiver(0, 0, vectors[0], vectors[1], scale=1, scale_units=\"xy\", angles=\"xy\")\n",
    "plt.xlim(-1.5,1.5)\n",
    "plt.ylim(-1.5,1.5)\n",
    "plt.gca().set_aspect(\"equal\")"
   ]
  },
  {
   "cell_type": "markdown",
   "metadata": {},
   "source": [
    "Indexing works the same way with multi-axis arrays as it does with flattened array, with each axis getting its own index, separated by commas. See the following cells for examples."
   ]
  },
  {
   "cell_type": "code",
   "execution_count": null,
   "metadata": {},
   "outputs": [],
   "source": [
    "vectors"
   ]
  },
  {
   "cell_type": "code",
   "execution_count": null,
   "metadata": {},
   "outputs": [],
   "source": [
    "vectors[0,1] #first component of second vector"
   ]
  },
  {
   "cell_type": "code",
   "execution_count": null,
   "metadata": {},
   "outputs": [],
   "source": [
    "vectors[:,1] #second vector"
   ]
  },
  {
   "cell_type": "code",
   "execution_count": null,
   "metadata": {},
   "outputs": [],
   "source": [
    "vectors[0] #first component of each vector"
   ]
  },
  {
   "cell_type": "code",
   "execution_count": null,
   "metadata": {},
   "outputs": [],
   "source": [
    "vectors[:,:3] #first three vectors"
   ]
  },
  {
   "cell_type": "markdown",
   "metadata": {},
   "source": [
    "It is easy to transpose arrays, i.e. flip the order of the axes. For 2d arrays, this is exactly the same as trasposing a matrix. Applied to the `vectors` array, it makes a `(N,2)` array, so the outer axis is the list of vectors, and the inner axis is the list of components. For example, if we were iterating through the list of vectors, we would do:"
   ]
  },
  {
   "cell_type": "code",
   "execution_count": null,
   "metadata": {},
   "outputs": [],
   "source": [
    "for vec in vectors.T:\n",
    "    print(vec)"
   ]
  },
  {
   "cell_type": "markdown",
   "metadata": {},
   "source": [
    "Let's implement the dot product. Recall that the dot product of two vectors $x$ and $y$ (suppressing vector notation for brevity) is $x\\cdot y = \\sum_i x_iy_i$, where $i$ runs through the elements of an orthonormal basis, and $x_i$ and $y_i$ are the corresponding components of the vectors in that basis.\n",
    "\n",
    "Try to implement this in numpy: you know that simple multiplication between arrays corresponds to element-wise multiplication. All that is left is for you to `sum` ([docs](https://numpy.org/doc/stable/reference/generated/numpy.sum.html)) the resulting array. The following cell finds the norms (length squared) of each of the vectors in the `vectors` array, by iterating through the array. Vectorise it to use purely numpy functions. (Hint: you can specify to sum only over a particular axis). "
   ]
  },
  {
   "cell_type": "code",
   "execution_count": null,
   "metadata": {},
   "outputs": [],
   "source": [
    "norms = np.zeros(N)\n",
    "for i in range(N):\n",
    "    vec = vectors[:,i]\n",
    "    norms[i] = np.sum(vec**2)\n",
    "print(norms)"
   ]
  },
  {
   "cell_type": "markdown",
   "metadata": {},
   "source": [
    "Now suppose we wanted to obtain an $N\\times N$ matrix corresponding to each of the $N$ vectors dotted with each of the $N$ vectors. How could we do this? First try it using `sum`, using two python loops. The answer is below, but try it yourself first."
   ]
  },
  {
   "cell_type": "code",
   "execution_count": null,
   "metadata": {},
   "outputs": [],
   "source": [
    "m = np.zeros((N,N))\n",
    "for i in range(N):\n",
    "    for j in range(N): #we could go up only to i+1, since the matrix is symmetric\n",
    "        m[i,j] = np.sum(vectors[:,i]*vectors[:,j])\n",
    "print(m)"
   ]
  },
  {
   "cell_type": "code",
   "execution_count": null,
   "metadata": {},
   "outputs": [],
   "source": [
    "print(norms - np.diag(m)) #check that diagonal entries are the same as the norms from earlier"
   ]
  },
  {
   "cell_type": "markdown",
   "metadata": {},
   "source": [
    "While it is important to know how to manipulate and sum arays like this, for this specific purpose there is a numpy function and method `dot` ([docs](https://numpy.org/doc/stable/reference/generated/numpy.dot.html)) which _contracts_ the last axis of an array with the first axis of another array (as long as they are be compatible), just like the dot product or matrix multiplication."
   ]
  },
  {
   "cell_type": "code",
   "execution_count": null,
   "metadata": {},
   "outputs": [],
   "source": [
    "vec = vectors[:,0] #first vector from array\n",
    "print(np.dot(vec, vec)) #dot function\n",
    "print(vec.dot(vec)) #dot method"
   ]
  },
  {
   "cell_type": "markdown",
   "metadata": {},
   "source": [
    "Now use this `dot` function/method to find the same $N\\times N$ matrix above, in a single line of code without any Python loops. (Hint: think of the `vectors` array as a $2\\times N$ matrix. What matrix operations would you need to do to get the desired matrix?)"
   ]
  },
  {
   "cell_type": "code",
   "execution_count": null,
   "metadata": {},
   "outputs": [],
   "source": [
    "m2 = #fill me in\n",
    "print(m2) #compare with m"
   ]
  },
  {
   "cell_type": "markdown",
   "metadata": {},
   "source": [
    "For general index manipulations and summations, it is most convenient to use Einstein summation notation with the numpy `einsum` function ([docs](https://numpy.org/doc/stable/reference/generated/numpy.einsum.html)).\n",
    "\n",
    "Now suppose we wanted to rotate these vectors. Implement the following function that returns a rotation matrix, $$\\begin{pmatrix}\\cos\\theta&-\\sin\\theta\\\\\\sin\\theta&\\cos\\theta\\end{pmatrix},$$ as a 2d NumPy array, given an angle $\\theta$."
   ]
  },
  {
   "cell_type": "code",
   "execution_count": null,
   "metadata": {},
   "outputs": [],
   "source": [
    "def rotation_matrix(angle):\n",
    "    \"\"\"Returns numpy array of shape (2,2) representing the 2d rotation matrix \n",
    "    corresponding to counter-clockwise rotation by given angle (in radians)\"\"\"\n",
    "    c = np.cos(angle)\n",
    "    s = np.sin(angle)\n",
    "    return np.array([[c,-s],[s,c]])\n",
    "\n",
    "rot = rotation_matrix(2*np.pi/3)\n",
    "print(rot)"
   ]
  },
  {
   "cell_type": "markdown",
   "metadata": {},
   "source": [
    "How would you apply this rotation to a single vector? How would you apply this to all $N$ vectors at once? Fill in the following code to rotate the vectors and plot them."
   ]
  },
  {
   "cell_type": "code",
   "execution_count": null,
   "metadata": {},
   "outputs": [],
   "source": [
    "rotated_vectors = rot.dot(vectors)\n",
    "plt.quiver(0, 0, vectors[0], vectors[1], scale=1, scale_units=\"xy\", angles=\"xy\")\n",
    "plt.quiver(0, 0, rotated_vectors[0], rotated_vectors[1], scale=1, scale_units=\"xy\", angles=\"xy\", color=\"blue\")\n",
    "plt.xlim(-1.5,1.5)\n",
    "plt.ylim(-1.5,1.5)\n",
    "plt.gca().set_aspect(\"equal\")"
   ]
  },
  {
   "cell_type": "markdown",
   "metadata": {},
   "source": [
    "Now let's analyse the matrix `rot`. You might recall that for a rotation matrix $R$ (a real orthognal matrix), $RR^T=R^TR=1$. Check this by comparing the trasnpose of `rot` to its inverse. You might find the function `inv` ([docs](https://numpy.org/doc/stable/reference/generated/numpy.linalg.inv.html)) in the numpy `linalg` module helpful."
   ]
  },
  {
   "cell_type": "code",
   "execution_count": null,
   "metadata": {},
   "outputs": [],
   "source": []
  },
  {
   "cell_type": "markdown",
   "metadata": {},
   "source": [
    "Find the eigenvalues and eigenvectors of the matrix `rot` and compare with theoretic expectations. Can you plot these eigenvectors? Why or why not? You might find the `linalg` module functions `eig` ([docs](https://numpy.org/doc/stable/reference/generated/numpy.linalg.eig.html)) and `eigh` ([docs](https://numpy.org/doc/stable/reference/generated/numpy.linalg.eigh.html)) useful for general and Hermitian matrices respectively."
   ]
  },
  {
   "cell_type": "code",
   "execution_count": null,
   "metadata": {},
   "outputs": [],
   "source": []
  },
  {
   "cell_type": "markdown",
   "metadata": {},
   "source": [
    "## Making 3D plots\n",
    "Now suppose we have some function $f(x,y)$ and we'd like to plot it. The most common approaches are to either embed it into 3d space, $z=f(x,y)$ and plot the resulting surface in 3d, or to use colours to indicate the function value at various $(x,y)$ points, effectively creating an image. We shall walk you through one such example, not only to show you how to do this, but also to teach you about _broadcasting._\n",
    "\n",
    "Broadcasting is the name given to numpy's automatic reshaping of arrays when required. To do computations, arrays must have exactly the same shape, i.e. the size must be the same in each axis. However, sometimes two arrays can have compatible shapes. This happens if one of the size along matching axes (starting from the innermost axes) is 1, in which case that size is scaled up by repeating the array along the axis (e.g. if array `a` has shape `(1,5,1,9)` and array `b` has shape `(10,1,3,9)`, `a+b` will return an array of shape `(10,5,3,9)`). It can also happen when one array has a subshape of another array (e.g. if array `a` has shape `(2,3,4,5)` and array `b` has shape `(4,5)`, `b` will be interpreted as having shape `(1,1,4,5)`). Consider the following examples:"
   ]
  },
  {
   "cell_type": "code",
   "execution_count": null,
   "metadata": {},
   "outputs": [],
   "source": [
    "a = np.arange(24).reshape((4,6))\n",
    "print(a)"
   ]
  },
  {
   "cell_type": "code",
   "execution_count": null,
   "metadata": {},
   "outputs": [],
   "source": [
    "b = np.arange(4).reshape((4,1))\n",
    "print(b)"
   ]
  },
  {
   "cell_type": "code",
   "execution_count": null,
   "metadata": {},
   "outputs": [],
   "source": [
    "print(a*b)"
   ]
  },
  {
   "cell_type": "code",
   "execution_count": null,
   "metadata": {},
   "outputs": [],
   "source": [
    "print(a + np.arange(6))"
   ]
  },
  {
   "cell_type": "code",
   "execution_count": null,
   "metadata": {},
   "outputs": [],
   "source": [
    "print(b + b.T)"
   ]
  },
  {
   "cell_type": "markdown",
   "metadata": {},
   "source": [
    "Correctly used, broadcasting can make vectorisation simpler and easier. Consider the above problem of making the $N\\times N$ matrix of vector dot-products, and let's pretend we didn't have the `dot` function. Try to reproduce the results by using broadcasting to create an array of shape `(2,N,N)` and summing over the axis corresponding to the components. The answer is below. (Note that this middle step involves creating an array twice the size of what we need; this is not a good idea for larger computations.)"
   ]
  },
  {
   "cell_type": "code",
   "execution_count": null,
   "metadata": {},
   "outputs": [],
   "source": [
    "# try it yourself before seeing the next cell"
   ]
  },
  {
   "cell_type": "code",
   "execution_count": null,
   "metadata": {},
   "outputs": [],
   "source": [
    "big_array = vectors.reshape((2,N,1))*vectors.reshape(2,1,N)\n",
    "m3 = np.sum(big_array, axis=0)\n",
    "print(m3) #compare with m and/or m2"
   ]
  },
  {
   "cell_type": "markdown",
   "metadata": {},
   "source": [
    "Now let's return to our problem of 3d plotting. Suppose have arrays sampling $x$ and $y$, with sizes $N_x$ and $N_y$. We will need to convert this to two 2d arrays of size $N_y\\times N_x$, with the $y$ values changing along the outer axis (columns) and $x$ values changing along the inner axis (rows). The numpy function `meshgrid` ([docs](https://numpy.org/doc/stable/reference/generated/numpy.meshgrid.html)) does this:"
   ]
  },
  {
   "cell_type": "code",
   "execution_count": null,
   "metadata": {},
   "outputs": [],
   "source": [
    "N_x = 100\n",
    "N_y = 200\n",
    "\n",
    "x = np.linspace(0, 5, N_x)\n",
    "y = np.linspace(-3, 1, N_y)\n",
    "\n",
    "x_2d, y_2d = np.meshgrid(x,y)\n",
    "x_2d.shape, y_2d.shape"
   ]
  },
  {
   "cell_type": "markdown",
   "metadata": {},
   "source": [
    "The following cells uses these arrays to plot $f(x,y)=\\sin(3x)\\cos(4y)$ as a 3d surface, and as an image."
   ]
  },
  {
   "cell_type": "code",
   "execution_count": null,
   "metadata": {},
   "outputs": [],
   "source": [
    "def f(x,y):\n",
    "    return np.sin(3*x)*np.cos(4*y)\n",
    "\n",
    "z_2d = f(x_2d,y_2d)"
   ]
  },
  {
   "cell_type": "code",
   "execution_count": null,
   "metadata": {},
   "outputs": [],
   "source": [
    "from mpl_toolkits.mplot3d import Axes3D\n",
    "\n",
    "fig = plt.figure(figsize=(8,8)) #create figure object to hold the plot\n",
    "ax = Axes3D(fig) #create Axes3D object to display the plot\n",
    "ax.plot_surface(x_2d, y_2d, z_2d)\n",
    "ax.set_xlabel(\"$x$\")\n",
    "ax.set_ylabel(\"$y$\")\n",
    "ax.set_zlabel(\"$f(x,y)$\")"
   ]
  },
  {
   "cell_type": "code",
   "execution_count": null,
   "metadata": {},
   "outputs": [],
   "source": [
    "plt.imshow(z_2d, extent=(x[0],x[-1],y[-1],y[0]), cmap=\"viridis\") #try changing the settings (e.g. pick a different cmap)\n",
    "plt.colorbar()\n",
    "plt.xlabel(\"$x$\")\n",
    "plt.ylabel(\"$y$\")"
   ]
  },
  {
   "cell_type": "markdown",
   "metadata": {},
   "source": [
    "Now the challenge to you is to compute `x_2d`, `y_2d`, and `z_2d` without using `meshgrid`, using only broadcasting. "
   ]
  },
  {
   "cell_type": "code",
   "execution_count": null,
   "metadata": {},
   "outputs": [],
   "source": [
    "#find x_2d, y_2d, z_2d using only broadcasting"
   ]
  },
  {
   "cell_type": "markdown",
   "metadata": {},
   "source": [
    "As additional practice, you can also use the numpy function `indices` ([docs](https://numpy.org/doc/stable/reference/generated/numpy.indices.html)), which, given the shape of a desired array, returns an array of indices increasing along each axis. Use this array to create `x_2d` and `y_2d` from `x` and `y`. (Hint: recall the various ways to index arrays.)"
   ]
  },
  {
   "cell_type": "code",
   "execution_count": null,
   "metadata": {},
   "outputs": [],
   "source": [
    "ind = np.indices((N_y,N_x))\n",
    "ind.shape"
   ]
  },
  {
   "cell_type": "code",
   "execution_count": null,
   "metadata": {},
   "outputs": [],
   "source": [
    "print(ind[0])\n",
    "print(ind[1])"
   ]
  },
  {
   "cell_type": "code",
   "execution_count": null,
   "metadata": {},
   "outputs": [],
   "source": [
    "#find x_2d, y_2d, z_2d using indexing"
   ]
  }
 ],
 "metadata": {
  "history": [
   {
    "code": "import numpy as np\n\nN = 10000",
    "id": "66bb2ccda70c44a3bfd778b099605170",
    "idx": 1,
    "time": "2021-01-29T21:24:47.354Z",
    "type": "execution"
   },
   {
    "code": "%%timeit\n\npython_list = []\nfor n in range(N):\n    python_list.append(n**3)",
    "id": "2a7733d9bffe48519373890b09d3ff52",
    "idx": 2,
    "time": "2021-01-29T21:24:47.363Z",
    "type": "execution"
   },
   {
    "code": "%timeit list_comp = [n**3 for n in range(N)] #list comprehensions are slightly faster",
    "id": "e8fe1d8e11764e25815a51d35be365ef",
    "idx": 3,
    "time": "2021-01-29T21:24:47.369Z",
    "type": "execution"
   },
   {
    "code": "%timeit numpy_array = np.arange(N)**3",
    "id": "2462579aee9842898b4807b3aebe721e",
    "idx": 4,
    "time": "2021-01-29T21:24:47.374Z",
    "type": "execution"
   },
   {
    "code": "a = [1,2,3]\nb = [4,5,6]\n\na_arr = np.array(a)\nb_arr = np.array(b)\n\nprint(a_arr + b_arr)\nprint(a+b)",
    "id": "9f8de19eddc0451da9e7f498909998a2",
    "idx": 6,
    "time": "2021-01-29T21:24:47.378Z",
    "type": "execution"
   },
   {
    "code": "print(a_arr*2)\nprint(a*2)",
    "id": "2f14fe94debe4e8598d8d1eab77f8fb4",
    "idx": 7,
    "time": "2021-01-29T21:24:47.381Z",
    "type": "execution"
   },
   {
    "code": "print(a_arr>2)\nprint(a>2)",
    "id": "e1ddbc348fbc4ca08ade74c54bba7b06",
    "idx": 8,
    "time": "2021-01-29T21:24:47.385Z",
    "type": "execution"
   },
   {
    "code": "def f(x):\n    return x**2 #change me\n\n%timeit [f(x) for x in range(N)]\n%timeit f(np.arange(N))",
    "id": "ef39bf3911e84c35a30a8e35254b1b81",
    "idx": 10,
    "time": "2021-01-29T21:24:47.388Z",
    "type": "execution"
   },
   {
    "code": "np.zeros(5)",
    "id": "3cb621488154401b880dc96b4620dc02",
    "idx": 12,
    "time": "2021-01-29T21:24:47.393Z",
    "type": "execution"
   },
   {
    "code": "np.zeros(10, dtype=int)",
    "id": "022acecaca1341cc803e4cde32f602c0",
    "idx": 13,
    "time": "2021-01-29T21:24:47.397Z",
    "type": "execution"
   },
   {
    "code": "np.ones(3)",
    "id": "fa8175c3e68c43a493b89fa5276346d8",
    "idx": 14,
    "time": "2021-01-29T21:24:47.400Z",
    "type": "execution"
   },
   {
    "code": "np.ones(6, dtype=bool)",
    "id": "9fc37f1f5a2b471880a8c7c6f1de72c7",
    "idx": 15,
    "time": "2021-01-29T21:24:47.403Z",
    "type": "execution"
   },
   {
    "code": "%matplotlib inline\nfrom matplotlib import pyplot as plt\n\nx = np.linspace(0,5,26) #26 samples from 0 to 5\ny = np.sin(2*x)\n\nplt.scatter(x, y)\nplt.xlabel(\"$x$\")\nplt.ylabel(\"$x^2$\")",
    "id": "c9a241c135174aa896f23d9f929f7c3f",
    "idx": 17,
    "time": "2021-01-29T21:24:47.406Z",
    "type": "execution"
   },
   {
    "code": "x",
    "id": "68f810b7d5bb41f99366e9a0e96f7521",
    "idx": 20,
    "time": "2021-01-29T21:24:47.411Z",
    "type": "execution"
   },
   {
    "code": "x[2] #third element",
    "id": "54043660137a42fb9e255fad2ad2de57",
    "idx": 21,
    "time": "2021-01-29T21:24:47.415Z",
    "type": "execution"
   },
   {
    "code": "x[-2] #second-to-last element",
    "id": "ddce2de0f8c74eb08449142b29097437",
    "idx": 22,
    "time": "2021-01-29T21:24:47.418Z",
    "type": "execution"
   },
   {
    "code": "x[2:4] #third, fourth element",
    "id": "8e038b501dec4ac987ad3f49ded9f1a2",
    "idx": 23,
    "time": "2021-01-29T21:24:47.423Z",
    "type": "execution"
   },
   {
    "code": "x[:3] #up to third element",
    "id": "f0bf07a47e604697845b7fbd378597ac",
    "idx": 24,
    "time": "2021-01-29T21:24:47.427Z",
    "type": "execution"
   },
   {
    "code": "x[-4:] #last four elements",
    "id": "e765f74a7f0340018e58fc18cd15860a",
    "idx": 25,
    "time": "2021-01-29T21:24:47.431Z",
    "type": "execution"
   },
   {
    "code": "x[:] #all elements (useful for copying an array or for assigning it a constant value)",
    "id": "e2c07e7ea2f549c7855218c036d1f8ef",
    "idx": 26,
    "time": "2021-01-29T21:24:47.434Z",
    "type": "execution"
   },
   {
    "code": "x[::-1] #reverse the array",
    "id": "12d68c2af40145908804513d3e5863d9",
    "idx": 27,
    "time": "2021-01-29T21:24:47.438Z",
    "type": "execution"
   },
   {
    "code": "plt.scatter(x[::2],y[::2]) #use only every second element",
    "id": "d47ae16eba224a9288f2f02824611d9f",
    "idx": 28,
    "time": "2021-01-29T21:24:47.442Z",
    "type": "execution"
   },
   {
    "code": "#try your hand at splicing!",
    "id": "5710c5846b4043df9da55cf6fd9c2e02",
    "idx": 30,
    "time": "2021-01-29T21:24:47.447Z",
    "type": "execution"
   },
   {
    "code": "a = np.array([1,2,3,4,5])\na[[True, False, False, True, True]]",
    "id": "bd1b38843cd748908030545d52a033ac",
    "idx": 32,
    "time": "2021-01-29T21:24:47.451Z",
    "type": "execution"
   },
   {
    "code": "b = y >= 0\nprint(b)",
    "id": "ac0f054251f44afa974536f11317b4a2",
    "idx": 34,
    "time": "2021-01-29T21:24:47.455Z",
    "type": "execution"
   },
   {
    "code": "x_nonneg = #fill me in\ny_nonneg = #fill me in\n\nplt.scatter(x_nonneg, y_nonneg)",
    "id": "8e1116c04ab74f04845efeba93be104a",
    "idx": 35,
    "time": "2021-01-29T21:24:47.458Z",
    "type": "execution"
   },
   {
    "code": "a = x[[0,1,2,1,-1]]\na",
    "id": "2e83f3c172dd4ec3ba8405720433a9a0",
    "idx": 37,
    "time": "2021-01-29T21:24:47.462Z",
    "type": "execution"
   },
   {
    "code": "x_shuff = np.array(\n    [1.4, 2.0, 0.0, 4.0, 5.0, 3.4, 1.0, 4.2, 0.2, 1.6, 3.6, 1.8, 0.8, 3.0, 0.6, 2.8, 3.2, 4.4, 2.4, 2.2, \n     2.6, 3.8, 4.8, 1.2, 0.4, 4.6]\n)\ny_shuff = np.array(\n    [0.33498815015590466, -0.7568024953079282, 0.0, 0.9893582466233818, -0.5440211108893698, \n     0.49411335113860894, 0.9092974268256817, 0.8545989080882804, 0.3894183423086505, -0.058374143427580086, \n     0.7936678638491531, -0.44252044329485246, 0.9995736030415051, -0.27941549819892586, 0.9320390859672264, \n     -0.6312666378723208, 0.11654920485049364, 0.5849171928917617, -0.9961646088358406, -0.951602073889516, \n     -0.8834546557201531, 0.9679196720314865, -0.1743267812229814, 0.6754631805511506, 0.7173560908995228, \n     0.22288991410024592]\n)\n\nplt.scatter(x_shuff, y_shuff)",
    "id": "608866163020441e851bf3d33ab4ea2e",
    "idx": 39,
    "time": "2021-01-29T21:24:47.466Z",
    "type": "execution"
   },
   {
    "code": "plt.plot(x_shuff,y_shuff)\n#plt.plot(x,y) #compare with this (though in this game this is cheating since we don't know what x and y are)",
    "id": "e4d7d1b88ce94e88a4000dcbcb89fe64",
    "idx": 41,
    "time": "2021-01-29T21:24:47.471Z",
    "type": "execution"
   },
   {
    "code": "x_sort = np.sort(x_shuff)\nprint(x_sort)",
    "id": "cdc65bb1fe644c43a27bfe8e39eda8f2",
    "idx": 43,
    "time": "2021-01-29T21:24:47.474Z",
    "type": "execution"
   },
   {
    "code": "plt.plot(x_sort, y_shuff)",
    "id": "a49687ed05354d549099e3d315d754b6",
    "idx": 44,
    "time": "2021-01-29T21:24:47.478Z",
    "type": "execution"
   },
   {
    "code": "indices = np.argsort(x_shuff)\nprint(indices)",
    "id": "d0dd2743bc4145798d37c4fa4fef1a01",
    "idx": 46,
    "time": "2021-01-29T21:24:47.483Z",
    "type": "execution"
   },
   {
    "code": "x_sort = #fill me in\ny_sort = #fill me in\n\nplt.plot(x_sort,y_sort)",
    "id": "43be71d51ec44c278acddf43eb9eafa2",
    "idx": 47,
    "time": "2021-01-29T21:24:47.486Z",
    "type": "execution"
   },
   {
    "code": "vectors = [] #vectorise me (replace with a numpy array)\nN = 5\nfor i in range(N):\n    vectors.append(np.random.uniform(size=2))",
    "id": "656c4e1b623742f680858c015d47465a",
    "idx": 49,
    "time": "2021-01-29T21:24:47.489Z",
    "type": "execution"
   },
   {
    "code": "for vec in vectors:\n    plt.quiver(0, 0, vec[0], vec[1], scale=1, scale_units=\"xy\", angles=\"xy\")\nplt.xlim(-1.5,1.5)\nplt.ylim(-1.5,1.5)\nplt.gca().set_aspect(\"equal\")",
    "id": "c556be071e254e628d83e9f62a3b219e",
    "idx": 50,
    "time": "2021-01-29T21:24:47.492Z",
    "type": "execution"
   },
   {
    "code": "a = np.arange(24) #try reshaping this \"vector\"\nprint(a)\na.shape",
    "id": "82b5043bcd91465896bec34b0ebcb3f5",
    "idx": 52,
    "time": "2021-01-29T21:24:47.497Z",
    "type": "execution"
   },
   {
    "code": "b = a.reshape((3,-1)) #a 3x8 \"matrix\"\nprint(b)\nb.shape",
    "id": "4e3b817c8ce24aa388a2c23abd56dedc",
    "idx": 53,
    "time": "2021-01-29T21:24:47.502Z",
    "type": "execution"
   },
   {
    "code": "c = a.reshape((3,2,4)) #a 3x2x4 \"rank-3 tensor\"\nprint(c)\nc.ndim \n#try making a higher-dimensional array (challenge: reshape a into an array with ndim == 10)",
    "id": "02cc5f4677b54ff28ece578d82fb4b0d",
    "idx": 54,
    "time": "2021-01-29T21:24:47.507Z",
    "type": "execution"
   },
   {
    "code": "print(c.flatten()) #\"back\" to a \"vector\"",
    "id": "0a7cd8254cdd46058b96a6871df8afef",
    "idx": 55,
    "time": "2021-01-29T21:24:47.514Z",
    "type": "execution"
   },
   {
    "code": "a.reshape((5,-1))",
    "id": "a387eb6a76c34be78a0c253eb2abf59b",
    "idx": 56,
    "time": "2021-01-29T21:24:47.524Z",
    "type": "execution"
   },
   {
    "code": "vectors = np.random.uniform(size=2*N).reshape((2,-1))\n\nplt.quiver(0, 0, vectors[0], vectors[1], scale=1, scale_units=\"xy\", angles=\"xy\")\nplt.xlim(-1.5,1.5)\nplt.ylim(-1.5,1.5)\nplt.gca().set_aspect(\"equal\")",
    "id": "b28539892b7b41228fa6a35e7237b00f",
    "idx": 58,
    "time": "2021-01-29T21:24:47.529Z",
    "type": "execution"
   },
   {
    "code": "vectors",
    "id": "51cb4b33e6e4442f8a9693b1962cbb73",
    "idx": 60,
    "time": "2021-01-29T21:24:47.533Z",
    "type": "execution"
   },
   {
    "code": "vectors[0,1] #first component of second vector",
    "id": "70606fc9442e4da1ac02486735b8d2e7",
    "idx": 61,
    "time": "2021-01-29T21:24:47.537Z",
    "type": "execution"
   },
   {
    "code": "vectors[:,1] #second vector",
    "id": "a9ef7dbb73eb4a9d89cb62a0c111127b",
    "idx": 62,
    "time": "2021-01-29T21:24:47.542Z",
    "type": "execution"
   },
   {
    "code": "vectors[0] #first component of each vector",
    "id": "39500fe15fbe46248a9f32091f5bf3dc",
    "idx": 63,
    "time": "2021-01-29T21:24:47.547Z",
    "type": "execution"
   },
   {
    "code": "vectors[:,:3] #first three vectors",
    "id": "d91f953b45d94b7aba29e43c359ab245",
    "idx": 64,
    "time": "2021-01-29T21:24:47.552Z",
    "type": "execution"
   },
   {
    "code": "for vec in vectors.T:\n    print(vec)",
    "id": "7888cc73a71b4cd08adfd5b7629792ec",
    "idx": 66,
    "time": "2021-01-29T21:24:47.557Z",
    "type": "execution"
   },
   {
    "code": "norms = np.zeros(N)\nfor i in range(N):\n    vec = vectors[:,i]\n    norms[i] = np.sum(vec**2)\nprint(norms)",
    "id": "01982a7412434573946ae2bd09dc57b3",
    "idx": 68,
    "time": "2021-01-29T21:24:47.561Z",
    "type": "execution"
   },
   {
    "code": "m = np.zeros((N,N))\nfor i in range(N):\n    for j in range(N): #we could go up only to i+1, since the matrix is symmetric\n        m[i,j] = np.sum(vectors[:,i]*vectors[:,j])\nprint(m)",
    "id": "2a0bb3fcc7ba497296788737408a3cfb",
    "idx": 70,
    "time": "2021-01-29T21:24:47.566Z",
    "type": "execution"
   },
   {
    "code": "print(norms - np.diag(m)) #check that diagonal entries are the same as the norms from earlier",
    "id": "b39529e5b1fa43188ded81963dda9619",
    "idx": 71,
    "time": "2021-01-29T21:24:47.570Z",
    "type": "execution"
   },
   {
    "code": "vec = vectors[:,0] #first vector from array\nprint(np.dot(vec, vec)) #dot function\nprint(vec.dot(vec)) #dot method",
    "id": "aaa2e02b8cbb4154aa64145666eb1fca",
    "idx": 73,
    "time": "2021-01-29T21:24:47.575Z",
    "type": "execution"
   },
   {
    "code": "m2 = #fill me in\nprint(m2) #compare with m",
    "id": "8da356da9c704c688d9a70e3d319a3b5",
    "idx": 75,
    "time": "2021-01-29T21:24:47.579Z",
    "type": "execution"
   },
   {
    "code": "def rotation_matrix(angle):\n    \"\"\"Returns numpy array of shape (2,2) representing the 2d rotation matrix \n    corresponding to counter-clockwise rotation by given angle (in radians)\"\"\"\n    c = np.cos(angle)\n    s = np.sin(angle)\n    return np.array([[c,-s],[s,c]])\n\nrot = rotation_matrix(2*np.pi/3)\nprint(rot)",
    "id": "e4d4f14365504ab3a06ec6358956a67e",
    "idx": 77,
    "time": "2021-01-29T21:24:47.584Z",
    "type": "execution"
   },
   {
    "code": "rotated_vectors = rot.dot(vectors)\nplt.quiver(0, 0, vectors[0], vectors[1], scale=1, scale_units=\"xy\", angles=\"xy\")\nplt.quiver(0, 0, rotated_vectors[0], rotated_vectors[1], scale=1, scale_units=\"xy\", angles=\"xy\", color=\"blue\")\nplt.xlim(-1.5,1.5)\nplt.ylim(-1.5,1.5)\nplt.gca().set_aspect(\"equal\")",
    "id": "9b715682a4624259bb8c810c8c1bb3cf",
    "idx": 79,
    "time": "2021-01-29T21:24:47.587Z",
    "type": "execution"
   },
   {
    "code": "a = np.arange(4).reshape((4,6))\nprint(a)",
    "id": "4a635dce46df48c7b442f76d367d09c7",
    "idx": 85,
    "time": "2021-01-29T21:24:47.596Z",
    "type": "execution"
   },
   {
    "code": "b = np.arange(4).reshape((4,1))\nprint(b)",
    "id": "e075c18667f44b9186823c64dea3d2f6",
    "idx": 86,
    "time": "2021-01-29T21:24:47.598Z",
    "type": "execution"
   },
   {
    "code": "print(a*b)",
    "id": "3cb5f39b1e824566b91512609502813c",
    "idx": 87,
    "time": "2021-01-29T21:24:47.602Z",
    "type": "execution"
   },
   {
    "code": "print(a + np.arange(6))",
    "id": "7251022055914b4d8a103c51bc8e2a53",
    "idx": 88,
    "time": "2021-01-29T21:24:47.606Z",
    "type": "execution"
   },
   {
    "code": "print(b + b.T)",
    "id": "f27041d5b81446359697178114318ecd",
    "idx": 89,
    "time": "2021-01-29T21:24:47.609Z",
    "type": "execution"
   },
   {
    "code": "# try it yourself before seeing the next cell",
    "id": "6062ac8c8efb4e18b2053e502116c372",
    "idx": 91,
    "time": "2021-01-29T21:24:47.613Z",
    "type": "execution"
   },
   {
    "code": "big_array = vectors.reshape((2,N,1))*vectors.reshape(2,1,N)\nm3 = np.sum(big_array, axis=0)\nprint(m3) #compare with m and/or m2",
    "id": "8673923601eb4adca4b4622080346711",
    "idx": 92,
    "time": "2021-01-29T21:24:47.616Z",
    "type": "execution"
   },
   {
    "code": "N_x = 100\nN_y = 200\n\nx = np.linspace(0, 5, N_x)\ny = np.linspace(-3, 1, N_y)\n\nx_2d, y_2d = np.meshgrid(x,y)\nx_2d.shape, y_2d.shape",
    "id": "55b0315aec4a4c658d8df637eb8817b9",
    "idx": 94,
    "time": "2021-01-29T21:24:47.621Z",
    "type": "execution"
   },
   {
    "code": "def f(x,y):\n    return np.sin(3*x)*np.cos(4*y)\n\nz_2d = f(x_2d,y_2d)",
    "id": "28276363eb2f43a792a5862e7955de83",
    "idx": 96,
    "time": "2021-01-29T21:24:47.624Z",
    "type": "execution"
   },
   {
    "code": "from mpl_toolkits.mplot3d import Axes3D\n\nfig = plt.figure(figsize=(8,8)) #create figure object to hold the plot\nax = Axes3D(fig) #create Axes3D object to display the plot\nax.plot_surface(x_2d, y_2d, z_2d)\nax.set_xlabel(\"$x$\")\nax.set_ylabel(\"$y$\")\nax.set_zlabel(\"$f(x,y)$\")",
    "id": "b7a3414e73594a75a2607b116a8255a7",
    "idx": 97,
    "time": "2021-01-29T21:24:47.628Z",
    "type": "execution"
   },
   {
    "code": "plt.imshow(z_2d, extent=(x[0],x[-1],y[-1],y[0]), cmap=\"viridis\") #try changing the settings (e.g. pick a different cmap)\nplt.colorbar()\nplt.xlabel(\"$x$\")\nplt.ylabel(\"$y$\")",
    "id": "d2690dc54e7346ca8bcf9ad25f59e93a",
    "idx": 98,
    "time": "2021-01-29T21:24:47.632Z",
    "type": "execution"
   },
   {
    "code": "#find x_2d, y_2d, z_2d using only broadcasting",
    "id": "bea06d3f473f4cfb857eabb5a3376c76",
    "idx": 100,
    "time": "2021-01-29T21:24:47.636Z",
    "type": "execution"
   },
   {
    "code": "ind = np.indices((N_y,N_x))\nind.shape",
    "id": "7ecb33347db942edbce6d468ecb01b85",
    "idx": 102,
    "time": "2021-01-29T21:24:47.640Z",
    "type": "execution"
   },
   {
    "code": "print(ind[0])\nprint(ind[1])",
    "id": "96c9729117814142b631713f0429a11a",
    "idx": 103,
    "time": "2021-01-29T21:24:47.644Z",
    "type": "execution"
   },
   {
    "code": "#find x_2d, y_2d, z_2d using indexing",
    "id": "bc984ed4d53e485c83d372dd3a2d3c4e",
    "idx": 104,
    "time": "2021-01-29T21:24:47.648Z",
    "type": "execution"
   },
   {
    "id": "66bb2ccda70c44a3bfd778b099605170",
    "time": "2021-01-29T21:24:47.767Z",
    "type": "completion"
   },
   {
    "id": "2a7733d9bffe48519373890b09d3ff52",
    "time": "2021-01-29T21:24:50.116Z",
    "type": "completion"
   },
   {
    "id": "e8fe1d8e11764e25815a51d35be365ef",
    "time": "2021-01-29T21:24:52.433Z",
    "type": "completion"
   },
   {
    "id": "2462579aee9842898b4807b3aebe721e",
    "time": "2021-01-29T21:24:55.156Z",
    "type": "completion"
   },
   {
    "id": "9f8de19eddc0451da9e7f498909998a2",
    "time": "2021-01-29T21:24:55.204Z",
    "type": "completion"
   },
   {
    "id": "2f14fe94debe4e8598d8d1eab77f8fb4",
    "time": "2021-01-29T21:24:55.208Z",
    "type": "completion"
   },
   {
    "id": "e1ddbc348fbc4ca08ade74c54bba7b06",
    "time": "2021-01-29T21:24:55.251Z",
    "type": "completion"
   },
   {
    "id": "ef39bf3911e84c35a30a8e35254b1b81",
    "time": "2021-01-29T21:24:55.254Z",
    "type": "completion"
   },
   {
    "id": "3cb621488154401b880dc96b4620dc02",
    "time": "2021-01-29T21:24:55.256Z",
    "type": "completion"
   },
   {
    "id": "022acecaca1341cc803e4cde32f602c0",
    "time": "2021-01-29T21:24:55.258Z",
    "type": "completion"
   },
   {
    "id": "fa8175c3e68c43a493b89fa5276346d8",
    "time": "2021-01-29T21:24:55.260Z",
    "type": "completion"
   },
   {
    "id": "9fc37f1f5a2b471880a8c7c6f1de72c7",
    "time": "2021-01-29T21:24:55.282Z",
    "type": "completion"
   },
   {
    "id": "c9a241c135174aa896f23d9f929f7c3f",
    "time": "2021-01-29T21:24:55.293Z",
    "type": "completion"
   },
   {
    "id": "68f810b7d5bb41f99366e9a0e96f7521",
    "time": "2021-01-29T21:24:55.295Z",
    "type": "completion"
   },
   {
    "id": "54043660137a42fb9e255fad2ad2de57",
    "time": "2021-01-29T21:24:55.304Z",
    "type": "completion"
   },
   {
    "id": "ddce2de0f8c74eb08449142b29097437",
    "time": "2021-01-29T21:24:55.306Z",
    "type": "completion"
   },
   {
    "id": "8e038b501dec4ac987ad3f49ded9f1a2",
    "time": "2021-01-29T21:24:55.308Z",
    "type": "completion"
   },
   {
    "id": "f0bf07a47e604697845b7fbd378597ac",
    "time": "2021-01-29T21:24:55.310Z",
    "type": "completion"
   },
   {
    "id": "e765f74a7f0340018e58fc18cd15860a",
    "time": "2021-01-29T21:24:55.322Z",
    "type": "completion"
   },
   {
    "id": "e2c07e7ea2f549c7855218c036d1f8ef",
    "time": "2021-01-29T21:24:55.325Z",
    "type": "completion"
   },
   {
    "id": "12d68c2af40145908804513d3e5863d9",
    "time": "2021-01-29T21:24:55.327Z",
    "type": "completion"
   },
   {
    "id": "d47ae16eba224a9288f2f02824611d9f",
    "time": "2021-01-29T21:24:55.337Z",
    "type": "completion"
   },
   {
    "id": "5710c5846b4043df9da55cf6fd9c2e02",
    "time": "2021-01-29T21:24:55.339Z",
    "type": "completion"
   },
   {
    "id": "bd1b38843cd748908030545d52a033ac",
    "time": "2021-01-29T21:24:55.341Z",
    "type": "completion"
   },
   {
    "id": "ac0f054251f44afa974536f11317b4a2",
    "time": "2021-01-29T21:24:55.343Z",
    "type": "completion"
   },
   {
    "id": "8e1116c04ab74f04845efeba93be104a",
    "time": "2021-01-29T21:24:55.345Z",
    "type": "completion"
   },
   {
    "id": "2e83f3c172dd4ec3ba8405720433a9a0",
    "time": "2021-01-29T21:24:55.351Z",
    "type": "completion"
   },
   {
    "id": "608866163020441e851bf3d33ab4ea2e",
    "time": "2021-01-29T21:24:55.353Z",
    "type": "completion"
   },
   {
    "id": "e4d7d1b88ce94e88a4000dcbcb89fe64",
    "time": "2021-01-29T21:24:55.357Z",
    "type": "completion"
   },
   {
    "id": "cdc65bb1fe644c43a27bfe8e39eda8f2",
    "time": "2021-01-29T21:24:55.359Z",
    "type": "completion"
   },
   {
    "id": "a49687ed05354d549099e3d315d754b6",
    "time": "2021-01-29T21:24:55.360Z",
    "type": "completion"
   },
   {
    "id": "d0dd2743bc4145798d37c4fa4fef1a01",
    "time": "2021-01-29T21:24:55.363Z",
    "type": "completion"
   },
   {
    "id": "43be71d51ec44c278acddf43eb9eafa2",
    "time": "2021-01-29T21:24:55.366Z",
    "type": "completion"
   },
   {
    "id": "656c4e1b623742f680858c015d47465a",
    "time": "2021-01-29T21:24:55.368Z",
    "type": "completion"
   },
   {
    "id": "c556be071e254e628d83e9f62a3b219e",
    "time": "2021-01-29T21:24:55.370Z",
    "type": "completion"
   },
   {
    "id": "82b5043bcd91465896bec34b0ebcb3f5",
    "time": "2021-01-29T21:24:55.372Z",
    "type": "completion"
   },
   {
    "id": "4e3b817c8ce24aa388a2c23abd56dedc",
    "time": "2021-01-29T21:24:55.374Z",
    "type": "completion"
   },
   {
    "id": "02cc5f4677b54ff28ece578d82fb4b0d",
    "time": "2021-01-29T21:24:55.376Z",
    "type": "completion"
   },
   {
    "id": "0a7cd8254cdd46058b96a6871df8afef",
    "time": "2021-01-29T21:24:55.377Z",
    "type": "completion"
   },
   {
    "id": "a387eb6a76c34be78a0c253eb2abf59b",
    "time": "2021-01-29T21:24:55.377Z",
    "type": "completion"
   },
   {
    "id": "b28539892b7b41228fa6a35e7237b00f",
    "time": "2021-01-29T21:24:55.377Z",
    "type": "completion"
   },
   {
    "id": "51cb4b33e6e4442f8a9693b1962cbb73",
    "time": "2021-01-29T21:24:55.378Z",
    "type": "completion"
   },
   {
    "id": "70606fc9442e4da1ac02486735b8d2e7",
    "time": "2021-01-29T21:24:55.378Z",
    "type": "completion"
   },
   {
    "id": "a9ef7dbb73eb4a9d89cb62a0c111127b",
    "time": "2021-01-29T21:24:55.378Z",
    "type": "completion"
   },
   {
    "id": "39500fe15fbe46248a9f32091f5bf3dc",
    "time": "2021-01-29T21:24:55.379Z",
    "type": "completion"
   },
   {
    "id": "d91f953b45d94b7aba29e43c359ab245",
    "time": "2021-01-29T21:24:55.380Z",
    "type": "completion"
   },
   {
    "id": "7888cc73a71b4cd08adfd5b7629792ec",
    "time": "2021-01-29T21:24:55.380Z",
    "type": "completion"
   },
   {
    "id": "01982a7412434573946ae2bd09dc57b3",
    "time": "2021-01-29T21:24:55.381Z",
    "type": "completion"
   },
   {
    "id": "2a0bb3fcc7ba497296788737408a3cfb",
    "time": "2021-01-29T21:24:55.381Z",
    "type": "completion"
   },
   {
    "id": "b39529e5b1fa43188ded81963dda9619",
    "time": "2021-01-29T21:24:55.381Z",
    "type": "completion"
   },
   {
    "id": "aaa2e02b8cbb4154aa64145666eb1fca",
    "time": "2021-01-29T21:24:55.381Z",
    "type": "completion"
   },
   {
    "id": "8da356da9c704c688d9a70e3d319a3b5",
    "time": "2021-01-29T21:24:55.382Z",
    "type": "completion"
   },
   {
    "id": "e4d4f14365504ab3a06ec6358956a67e",
    "time": "2021-01-29T21:24:55.382Z",
    "type": "completion"
   },
   {
    "id": "9b715682a4624259bb8c810c8c1bb3cf",
    "time": "2021-01-29T21:24:55.382Z",
    "type": "completion"
   },
   {
    "id": "4a635dce46df48c7b442f76d367d09c7",
    "time": "2021-01-29T21:24:55.383Z",
    "type": "completion"
   },
   {
    "id": "e075c18667f44b9186823c64dea3d2f6",
    "time": "2021-01-29T21:24:55.383Z",
    "type": "completion"
   },
   {
    "id": "3cb5f39b1e824566b91512609502813c",
    "time": "2021-01-29T21:24:55.383Z",
    "type": "completion"
   },
   {
    "id": "7251022055914b4d8a103c51bc8e2a53",
    "time": "2021-01-29T21:24:55.384Z",
    "type": "completion"
   },
   {
    "id": "f27041d5b81446359697178114318ecd",
    "time": "2021-01-29T21:24:55.384Z",
    "type": "completion"
   },
   {
    "id": "6062ac8c8efb4e18b2053e502116c372",
    "time": "2021-01-29T21:24:55.384Z",
    "type": "completion"
   },
   {
    "id": "8673923601eb4adca4b4622080346711",
    "time": "2021-01-29T21:24:55.385Z",
    "type": "completion"
   },
   {
    "id": "55b0315aec4a4c658d8df637eb8817b9",
    "time": "2021-01-29T21:24:55.385Z",
    "type": "completion"
   },
   {
    "id": "28276363eb2f43a792a5862e7955de83",
    "time": "2021-01-29T21:24:55.385Z",
    "type": "completion"
   },
   {
    "id": "b7a3414e73594a75a2607b116a8255a7",
    "time": "2021-01-29T21:24:55.385Z",
    "type": "completion"
   },
   {
    "id": "d2690dc54e7346ca8bcf9ad25f59e93a",
    "time": "2021-01-29T21:24:55.386Z",
    "type": "completion"
   },
   {
    "id": "bea06d3f473f4cfb857eabb5a3376c76",
    "time": "2021-01-29T21:24:55.386Z",
    "type": "completion"
   },
   {
    "id": "7ecb33347db942edbce6d468ecb01b85",
    "time": "2021-01-29T21:24:55.386Z",
    "type": "completion"
   },
   {
    "id": "96c9729117814142b631713f0429a11a",
    "time": "2021-01-29T21:24:55.387Z",
    "type": "completion"
   },
   {
    "id": "bc984ed4d53e485c83d372dd3a2d3c4e",
    "time": "2021-01-29T21:24:55.387Z",
    "type": "completion"
   },
   {
    "code": "a = np.arange(4).reshape((4,6))\nprint(a)",
    "id": "4a635dce46df48c7b442f76d367d09c7",
    "idx": 85,
    "time": "2021-01-29T21:25:11.778Z",
    "type": "execution"
   },
   {
    "code": "b = np.arange(4).reshape((4,1))\nprint(b)",
    "id": "e075c18667f44b9186823c64dea3d2f6",
    "idx": 86,
    "time": "2021-01-29T21:25:11.782Z",
    "type": "execution"
   },
   {
    "code": "print(a*b)",
    "id": "3cb5f39b1e824566b91512609502813c",
    "idx": 87,
    "time": "2021-01-29T21:25:11.785Z",
    "type": "execution"
   },
   {
    "code": "print(a + np.arange(6))",
    "id": "7251022055914b4d8a103c51bc8e2a53",
    "idx": 88,
    "time": "2021-01-29T21:25:11.789Z",
    "type": "execution"
   },
   {
    "code": "print(b + b.T)",
    "id": "f27041d5b81446359697178114318ecd",
    "idx": 89,
    "time": "2021-01-29T21:25:11.793Z",
    "type": "execution"
   },
   {
    "code": "# try it yourself before seeing the next cell",
    "id": "6062ac8c8efb4e18b2053e502116c372",
    "idx": 91,
    "time": "2021-01-29T21:25:11.796Z",
    "type": "execution"
   },
   {
    "code": "big_array = vectors.reshape((2,N,1))*vectors.reshape(2,1,N)\nm3 = np.sum(big_array, axis=0)\nprint(m3) #compare with m and/or m2",
    "id": "8673923601eb4adca4b4622080346711",
    "idx": 92,
    "time": "2021-01-29T21:25:11.798Z",
    "type": "execution"
   },
   {
    "code": "N_x = 100\nN_y = 200\n\nx = np.linspace(0, 5, N_x)\ny = np.linspace(-3, 1, N_y)\n\nx_2d, y_2d = np.meshgrid(x,y)\nx_2d.shape, y_2d.shape",
    "id": "55b0315aec4a4c658d8df637eb8817b9",
    "idx": 94,
    "time": "2021-01-29T21:25:11.801Z",
    "type": "execution"
   },
   {
    "code": "def f(x,y):\n    return np.sin(3*x)*np.cos(4*y)\n\nz_2d = f(x_2d,y_2d)",
    "id": "28276363eb2f43a792a5862e7955de83",
    "idx": 96,
    "time": "2021-01-29T21:25:11.804Z",
    "type": "execution"
   },
   {
    "code": "from mpl_toolkits.mplot3d import Axes3D\n\nfig = plt.figure(figsize=(8,8)) #create figure object to hold the plot\nax = Axes3D(fig) #create Axes3D object to display the plot\nax.plot_surface(x_2d, y_2d, z_2d)\nax.set_xlabel(\"$x$\")\nax.set_ylabel(\"$y$\")\nax.set_zlabel(\"$f(x,y)$\")",
    "id": "b7a3414e73594a75a2607b116a8255a7",
    "idx": 97,
    "time": "2021-01-29T21:25:11.807Z",
    "type": "execution"
   },
   {
    "code": "plt.imshow(z_2d, extent=(x[0],x[-1],y[-1],y[0]), cmap=\"viridis\") #try changing the settings (e.g. pick a different cmap)\nplt.colorbar()\nplt.xlabel(\"$x$\")\nplt.ylabel(\"$y$\")",
    "id": "d2690dc54e7346ca8bcf9ad25f59e93a",
    "idx": 98,
    "time": "2021-01-29T21:25:11.811Z",
    "type": "execution"
   },
   {
    "code": "#find x_2d, y_2d, z_2d using only broadcasting",
    "id": "bea06d3f473f4cfb857eabb5a3376c76",
    "idx": 100,
    "time": "2021-01-29T21:25:11.815Z",
    "type": "execution"
   },
   {
    "code": "ind = np.indices((N_y,N_x))\nind.shape",
    "id": "7ecb33347db942edbce6d468ecb01b85",
    "idx": 102,
    "time": "2021-01-29T21:25:11.819Z",
    "type": "execution"
   },
   {
    "code": "print(ind[0])\nprint(ind[1])",
    "id": "96c9729117814142b631713f0429a11a",
    "idx": 103,
    "time": "2021-01-29T21:25:11.821Z",
    "type": "execution"
   },
   {
    "code": "#find x_2d, y_2d, z_2d using indexing",
    "id": "bc984ed4d53e485c83d372dd3a2d3c4e",
    "idx": 104,
    "time": "2021-01-29T21:25:11.824Z",
    "type": "execution"
   },
   {
    "id": "4a635dce46df48c7b442f76d367d09c7",
    "time": "2021-01-29T21:25:11.890Z",
    "type": "completion"
   },
   {
    "id": "e075c18667f44b9186823c64dea3d2f6",
    "time": "2021-01-29T21:25:11.891Z",
    "type": "completion"
   },
   {
    "id": "3cb5f39b1e824566b91512609502813c",
    "time": "2021-01-29T21:25:11.972Z",
    "type": "completion"
   },
   {
    "id": "7251022055914b4d8a103c51bc8e2a53",
    "time": "2021-01-29T21:25:11.979Z",
    "type": "completion"
   },
   {
    "id": "f27041d5b81446359697178114318ecd",
    "time": "2021-01-29T21:25:11.983Z",
    "type": "completion"
   },
   {
    "id": "6062ac8c8efb4e18b2053e502116c372",
    "time": "2021-01-29T21:25:12.009Z",
    "type": "completion"
   },
   {
    "id": "8673923601eb4adca4b4622080346711",
    "time": "2021-01-29T21:25:12.021Z",
    "type": "completion"
   },
   {
    "id": "55b0315aec4a4c658d8df637eb8817b9",
    "time": "2021-01-29T21:25:12.023Z",
    "type": "completion"
   },
   {
    "id": "28276363eb2f43a792a5862e7955de83",
    "time": "2021-01-29T21:25:12.024Z",
    "type": "completion"
   },
   {
    "id": "b7a3414e73594a75a2607b116a8255a7",
    "time": "2021-01-29T21:25:12.024Z",
    "type": "completion"
   },
   {
    "id": "d2690dc54e7346ca8bcf9ad25f59e93a",
    "time": "2021-01-29T21:25:12.025Z",
    "type": "completion"
   },
   {
    "id": "bea06d3f473f4cfb857eabb5a3376c76",
    "time": "2021-01-29T21:25:12.027Z",
    "type": "completion"
   },
   {
    "id": "7ecb33347db942edbce6d468ecb01b85",
    "time": "2021-01-29T21:25:12.027Z",
    "type": "completion"
   },
   {
    "id": "96c9729117814142b631713f0429a11a",
    "time": "2021-01-29T21:25:12.028Z",
    "type": "completion"
   },
   {
    "id": "bc984ed4d53e485c83d372dd3a2d3c4e",
    "time": "2021-01-29T21:25:12.028Z",
    "type": "completion"
   },
   {
    "code": "a = np.arange(24).reshape((4,6))\nprint(a)",
    "id": "4a635dce46df48c7b442f76d367d09c7",
    "idx": 85,
    "time": "2021-01-29T21:26:05.447Z",
    "type": "execution"
   },
   {
    "id": "4a635dce46df48c7b442f76d367d09c7",
    "time": "2021-01-29T21:26:05.538Z",
    "type": "completion"
   },
   {
    "code": "b = np.arange(4).reshape((4,1))\nprint(b)",
    "id": "e075c18667f44b9186823c64dea3d2f6",
    "idx": 86,
    "time": "2021-01-29T21:26:06.164Z",
    "type": "execution"
   },
   {
    "id": "e075c18667f44b9186823c64dea3d2f6",
    "time": "2021-01-29T21:26:06.232Z",
    "type": "completion"
   },
   {
    "code": "print(a*b)",
    "id": "3cb5f39b1e824566b91512609502813c",
    "idx": 87,
    "time": "2021-01-29T21:26:07.210Z",
    "type": "execution"
   },
   {
    "id": "3cb5f39b1e824566b91512609502813c",
    "time": "2021-01-29T21:26:07.278Z",
    "type": "completion"
   }
  ],
  "kernelspec": {
   "display_name": "Python 3",
   "language": "python",
   "name": "python3"
  },
  "language_info": {
   "codemirror_mode": {
    "name": "ipython",
    "version": 3
   },
   "file_extension": ".py",
   "mimetype": "text/x-python",
   "name": "python",
   "nbconvert_exporter": "python",
   "pygments_lexer": "ipython3",
   "version": "3.8.6"
  }
 },
 "nbformat": 4,
 "nbformat_minor": 4
}
