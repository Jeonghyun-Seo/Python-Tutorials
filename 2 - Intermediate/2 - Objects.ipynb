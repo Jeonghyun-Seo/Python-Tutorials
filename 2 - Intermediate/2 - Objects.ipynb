{
 "cells": [
  {
   "cell_type": "markdown",
   "metadata": {},
   "source": [
    "# Objects\n",
    "Click [here](https://datahub.berkeley.edu/hub/user-redirect/git-pull?repo=https%3A%2F%2Fgithub.com%2Fberkeley-physics%2FPython-Tutorials&urlpath=tree%2FPython-Tutorials%2F2+-+Intermediate%2F2+-+Objects.ipynb&branch=master) to open this notebook in the DataHub.\n",
    "\n",
    "## Learning objectives\n",
    "By the end of this tutorial, you will be able to:\n",
    "- Distinguish between functions and methods\n",
    "- Recognise and avoid errors caused by copying pointers rather than objects\n",
    "- Create your own class\n",
    "- Use matplotlib's object-oriented approach\n",
    "\n",
    "## Relevant documentation\n",
    "- [Python data structures tutorial](https://docs.python.org/3/tutorial/datastructures.html)\n",
    "- [NumPy `ndarray` class](https://numpy.org/doc/stable/reference/generated/numpy.ndarray.html)\n",
    "- [Python `copy` module](https://docs.python.org/3/library/copy.html)\n",
    "- [Python classes tutorial](https://docs.python.org/3/tutorial/classes.html)\n",
    "- [Matplotlib `Figure` class](https://matplotlib.org/api/_as_gen/matplotlib.figure.Figure.html#matplotlib.figure.Figure)\n",
    "- [Matplotlib `Axes` class](https://matplotlib.org/api/axes_api.html#matplotlib.axes.Axes)\n",
    "\n",
    "## Primitives vs objects\n",
    "An _object_ is an entity that can have attributes and methods. A _primitive_ on the other hand, is simply a value. Consider the difference between a list and an integer. A list has many associated pieces of data, including the values of the list, and actions that can be done to this specific list, like adding and removing values. It is convenient to store all these data and actions in a single reference to the list, as shown below.\n",
    "\n",
    "The associated data values are called _attributes_ and associated functions are called _methods,_ and are accessed using a dot after the reference to the object itself, as shown below."
   ]
  },
  {
   "cell_type": "code",
   "execution_count": null,
   "metadata": {},
   "outputs": [],
   "source": [
    "x = [1,2,3]\n",
    "x.remove(1) #method that removes first instance of given value\n",
    "print(x)\n",
    "x.append(4) #method to add element at end\n",
    "print(x)"
   ]
  },
  {
   "cell_type": "code",
   "execution_count": null,
   "metadata": {},
   "outputs": [],
   "source": [
    "import numpy as np\n",
    "\n",
    "y = np.arange(10)\n",
    "print(type(y))\n",
    "y.size, y.shape, y.dtype #some attributes of numpy array object"
   ]
  },
  {
   "cell_type": "code",
   "execution_count": null,
   "metadata": {},
   "outputs": [],
   "source": [
    "z = y.reshape((5,2)) #one method of numpy array object\n",
    "z.shape"
   ]
  },
  {
   "cell_type": "markdown",
   "metadata": {},
   "source": [
    "A common error is to confuse the object itself with a reference to it. In the following example, the variable `x` stores a _pointer_ to a list. Then the variable assignment `y=x` assigns the same pointer to `y`, so we now have two references to the __same__ list."
   ]
  },
  {
   "cell_type": "code",
   "execution_count": null,
   "metadata": {},
   "outputs": [],
   "source": [
    "x = [1,2,3,4]\n",
    "y = x\n",
    "x.append(5)\n",
    "print(x)\n",
    "print(y)"
   ]
  },
  {
   "cell_type": "markdown",
   "metadata": {},
   "source": [
    "If we instead wanted to copy the list, we could use the `copy` method. This ensures that `y` gets set to a pointer to a second object, which is a copy of the first object."
   ]
  },
  {
   "cell_type": "code",
   "execution_count": null,
   "metadata": {},
   "outputs": [],
   "source": [
    "x = [1,2,3,4]\n",
    "y = x.copy()\n",
    "x.append(5)\n",
    "print(x)\n",
    "print(y)"
   ]
  },
  {
   "cell_type": "markdown",
   "metadata": {},
   "source": [
    "However, this is only a _shallow_ copy. If an element of the list is another pointer, the same problem occurs: the pointer gets copied rather than the object, so we have multiple references to the same object, rather than multiple objects."
   ]
  },
  {
   "cell_type": "code",
   "execution_count": null,
   "metadata": {},
   "outputs": [],
   "source": [
    "x = [[1,2],3,4]\n",
    "y = x.copy()\n",
    "x[0].append(5)\n",
    "print(x)\n",
    "print(y)"
   ]
  },
  {
   "cell_type": "markdown",
   "metadata": {},
   "source": [
    "The python module `copy` contains a function `deepcopy` that recursively copies each object encountered, preventing such errors from occuring at all depths. This works with all objects."
   ]
  },
  {
   "cell_type": "code",
   "execution_count": null,
   "metadata": {},
   "outputs": [],
   "source": [
    "from copy import deepcopy\n",
    "x = [[1,2],3,4]\n",
    "y = deepcopy(x)\n",
    "x[0].append(5)\n",
    "print(x)\n",
    "print(y)"
   ]
  },
  {
   "cell_type": "markdown",
   "metadata": {},
   "source": [
    "NumPy arrays have their own `copy` method (and the typing requirements usually prevent nested arrays, so shallow copies are typically enough)."
   ]
  },
  {
   "cell_type": "code",
   "execution_count": null,
   "metadata": {},
   "outputs": [],
   "source": [
    "x = np.array([1,2,3])\n",
    "y = x\n",
    "x[0] = 0\n",
    "print(x)\n",
    "print(y)"
   ]
  },
  {
   "cell_type": "code",
   "execution_count": null,
   "metadata": {},
   "outputs": [],
   "source": [
    "x = np.array([1,2,3])\n",
    "y = x.copy()\n",
    "x[0] = 0\n",
    "print(x)\n",
    "print(y)"
   ]
  },
  {
   "cell_type": "markdown",
   "metadata": {},
   "source": [
    "## Creating your own classes\n",
    "You can define your own data structures by defining a `class` similarly to how you define a function. The most important method is `__init__(self, *args)`: it defines a _constructor,_ which is a function that creates objects that are instances of this class. You can define attributes, using the special `self` reference to the instantiated object to access/modify attributes and methods. The `__repr__` method determines how the object is printed, or in general, how it is represented by a string. \n",
    "\n",
    "The following object allows us to store all rational numbers exactly (since arbitrarily large integers can be stored exactly in Python). The `__float__` method defines how the object can be converted to a float. In general, things surrounded by the double underscore have special meanings in Python."
   ]
  },
  {
   "cell_type": "code",
   "execution_count": null,
   "metadata": {},
   "outputs": [],
   "source": [
    "from math import gcd\n",
    "\n",
    "class Fraction:\n",
    "    def __init__(self, num, den):\n",
    "        r = gcd(num, den)\n",
    "        self.num = num//r\n",
    "        self.den = den//r\n",
    "        \n",
    "    def __repr__(self):\n",
    "        return \"%d/%d\"%(self.num,self.den)\n",
    "    \n",
    "    def __float__(self):\n",
    "        return self.num/self.den\n",
    "    \n",
    "half = Fraction(3,6) #calling constructor (__init__), passing num and den"
   ]
  },
  {
   "cell_type": "code",
   "execution_count": null,
   "metadata": {},
   "outputs": [],
   "source": [
    "type(half) #reference to class itself"
   ]
  },
  {
   "cell_type": "code",
   "execution_count": null,
   "metadata": {},
   "outputs": [],
   "source": [
    "print(half) #calling __repr__"
   ]
  },
  {
   "cell_type": "code",
   "execution_count": null,
   "metadata": {},
   "outputs": [],
   "source": [
    "float(half) #calling __float__"
   ]
  },
  {
   "cell_type": "markdown",
   "metadata": {},
   "source": [
    "The following functions perform arithmetic with fractions. Convert them to methods of the `Fraction` class (replacing the first argument with `self`). This will allow us to write things like `half.invert()` or `half.add(Fraction(1,3))`, freeing up the global namespace."
   ]
  },
  {
   "cell_type": "code",
   "execution_count": null,
   "metadata": {},
   "outputs": [],
   "source": [
    "def invert(frac):\n",
    "    return Fraction(frac.den, frac.num)\n",
    "    \n",
    "def add(frac1,frac2):\n",
    "    return Fraction(frac1.num*frac2.den+frac2.num*frac1.den, frac1.den*frac2.den)\n",
    "\n",
    "def multiply(frac1,frac2):\n",
    "    return Fraction(frac1.num*frac2.num, frac1.den*frac2.den)"
   ]
  },
  {
   "cell_type": "markdown",
   "metadata": {},
   "source": [
    "You can even figure out how to name the methods to work with `+` and `*`, so you can write things like `Fraction(1,3)+Fraction(1,2)`.\n",
    "\n",
    "## Matplotlib Axes objects\n",
    "So far, you've probably used the global imperative `matplotlib` functions like `plt.plot`. However, this can become confusing, especially when we have multiple plots in the same figure. How do we specify which plot we want to modify? In such cases (while there are less elegnat workarounds), the preferred approach is to work with the `Figure` and `Axes` objects, which is what matplotlib uses below the hood anyway.\n",
    "\n",
    "If you're already plotting something, you can obtain references to the Figure or Axes objects that are currently in focus by calling `gcf()` or `gca()`. This allows you to set more specific options than you can with the imperative approach."
   ]
  },
  {
   "cell_type": "code",
   "execution_count": null,
   "metadata": {},
   "outputs": [],
   "source": [
    "%matplotlib inline\n",
    "from matplotlib import pyplot as plt\n",
    "\n",
    "x = np.linspace(0,10,1000)\n",
    "y = np.exp(-x)\n",
    "\n",
    "plt.plot(x,y)\n",
    "plt.xlabel(\"$x$\")\n",
    "plt.ylabel(\"$y$\") \n",
    "#try applying a log-scale to the y-axis"
   ]
  },
  {
   "cell_type": "code",
   "execution_count": null,
   "metadata": {
    "scrolled": true
   },
   "outputs": [],
   "source": [
    "plt.plot(x,y)\n",
    "plt.xlabel(\"$x$\")\n",
    "plt.ylabel(\"$y$\")\n",
    "\n",
    "ax = plt.gca()\n",
    "print(type(ax))\n",
    "ax.set_yscale(\"log\")"
   ]
  },
  {
   "cell_type": "markdown",
   "metadata": {},
   "source": [
    "There are several ways to interact with matplotlib: you can explicitly create Axes objects and add them to a Figure object, you can use helper functions that create and return both at the same time, or you can avoid referring to the objects except where necessary. The imperative plotting commands you are used to are actually methods on Axes objects, and can be called that way. The following cell is equivalent to that above."
   ]
  },
  {
   "cell_type": "code",
   "execution_count": null,
   "metadata": {},
   "outputs": [],
   "source": [
    "ax = plt.gca()\n",
    "ax.plot(x,y)\n",
    "ax.set_xlabel(\"$x$\")\n",
    "ax.set_ylabel(\"$y$\")\n",
    "ax.set_yscale(\"log\")"
   ]
  },
  {
   "cell_type": "markdown",
   "metadata": {},
   "source": [
    "The `plt.subplots` function is useful for creating plots with multiple subplots. It returns a Figure object and an array of Axis objects."
   ]
  },
  {
   "cell_type": "code",
   "execution_count": null,
   "metadata": {},
   "outputs": [],
   "source": [
    "f, ax = plt.subplots(2, 2, figsize=(16,9))\n",
    "ax[0,0].plot(x, y)\n",
    "ax[0,1].plot(x, -y)\n",
    "ax[1,0].plot(-x, y)\n",
    "ax[1,1].plot(-x, -y)"
   ]
  }
 ],
 "metadata": {
  "kernelspec": {
   "display_name": "Python 3",
   "language": "python",
   "name": "python3"
  },
  "language_info": {
   "codemirror_mode": {
    "name": "ipython",
    "version": 3
   },
   "file_extension": ".py",
   "mimetype": "text/x-python",
   "name": "python",
   "nbconvert_exporter": "python",
   "pygments_lexer": "ipython3",
   "version": "3.6.11"
  }
 },
 "nbformat": 4,
 "nbformat_minor": 4
}
