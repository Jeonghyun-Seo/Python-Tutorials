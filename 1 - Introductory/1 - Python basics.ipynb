{
 "cells": [
  {
   "cell_type": "markdown",
   "metadata": {},
   "source": [
    "# Python basics\n",
    "Click [here](https://datahub.berkeley.edu/hub/user-redirect/git-pull?repo=https%3A%2F%2Fgithub.com%2Fberkeley-physics%2FPython-Tutorials&urlpath=tree%2FPython-Tutorials%2F1+-+Introductory%2F1+-+Python+basics.ipynb&branch=master) to open this notebook in the DataHub.\n",
    "\n",
    "In this notebook we'll explore some of the nuts and bolts of Python. You should think of these as a non-exhaustive list of building blocks.\n",
    "\n",
    "## Learning objectives\n",
    "By the end of this tutorial, you will be able to:\n",
    "-   Learn to store data in <span class=\"underline\">variables</span>\n",
    "-   Be able to use Python as a calculator\n",
    "-   Use lists to store multiple objects at a time\n",
    "-   Use functions to save on repetitive tasks\n",
    "-   Describe what a module is and import one\n",
    "-   Decipher error messages when they appear\n",
    "\n",
    "## Python as a calculator\n",
    "This section will cover basic arithmetic operations you would expect.\n",
    "\n",
    "Imagine adding a handful 10 digit numbers before calculators existed&#x2026; Yeah that sucks, luckily, we have Python!\n",
    "\n",
    "Most of the standard calculator functions are as you would expect"
   ]
  },
  {
   "cell_type": "code",
   "execution_count": null,
   "metadata": {},
   "outputs": [],
   "source": [
    "print(1 + 2)\n",
    "print(10 - 5)\n",
    "print(7 * 7) # Multiplication is done with an asterisk\n",
    "print(6 / 3)\n",
    "print(5 % 2) # Gets the remainder of 5/2. % is called mod (short for modulo)"
   ]
  },
  {
   "cell_type": "markdown",
   "metadata": {},
   "source": [
    "Note that Python distinguishes between two types of numbers, <span class=\"underline\">integers</span> and <span class=\"underline\">floats</span> (numbers with decimal places). The details aren't important here, but knowing this can be helpful when <span class=\"underline\">debugging</span> (the process of removing errors from your code).\n",
    "\n",
    "Normally we represent exponents by the ^ symbol. In Python that means something else, and exponentiation is expressed as '\\*\\*' (two asterisks)\n",
    "\n"
   ]
  },
  {
   "cell_type": "code",
   "execution_count": null,
   "metadata": {},
   "outputs": [],
   "source": [
    "print(1**2, 2**2, 3**2, 4**2, 5**2)"
   ]
  },
  {
   "cell_type": "markdown",
   "metadata": {},
   "source": [
    "One other thing that comes in handy is checking whether two things are equal. This comparison is done with **two** equals signs.\n",
    "\n"
   ]
  },
  {
   "cell_type": "code",
   "execution_count": null,
   "metadata": {},
   "outputs": [],
   "source": [
    "print(3 - 1 == 2)\n",
    "print(1 + 1 == 4)"
   ]
  },
  {
   "cell_type": "markdown",
   "metadata": {},
   "source": [
    "The results of `True` and `False` are examples of <span class=\"underline\">booleans</span>, named after boolean logic. These will come in handy when we want to evaluate whether parts of our code meet certain expectations!\n",
    "\n"
   ]
  },
  {
   "cell_type": "markdown",
   "metadata": {},
   "source": [
    "## Variable assignment\n",
    "\n"
   ]
  },
  {
   "cell_type": "markdown",
   "metadata": {},
   "source": [
    "Variable assignment is a fancy way of telling the computer to hold on to values. You can think of them as boxes that are named. These come in handy when you want to store the result of a computation or reuse information\n",
    "\n"
   ]
  },
  {
   "cell_type": "code",
   "execution_count": null,
   "metadata": {},
   "outputs": [],
   "source": [
    "x = 5\n",
    "y = x**2\n",
    "z = 3*x + 7"
   ]
  },
  {
   "cell_type": "markdown",
   "metadata": {},
   "source": [
    "One mistake that almost every programmer makes is accidentally typing one equals sign instead of two or vice versa. Watch out!\n",
    "\n",
    "One nice piece of <span class=\"underline\">syntax</span> is the ability to update variables in place. These have a concise notation\n",
    "\n"
   ]
  },
  {
   "cell_type": "code",
   "execution_count": null,
   "metadata": {},
   "outputs": [],
   "source": [
    "print(x)\n",
    "x += 2\n",
    "print(x)"
   ]
  },
  {
   "cell_type": "markdown",
   "metadata": {},
   "source": [
    "Roughly, you can think of this as expressing `x = x+2`, which means adding 2 to the value of `x` and putting it back into the variable called `x`. This is useful when you want to update something as a counter or other running total.\n",
    "\n"
   ]
  },
  {
   "cell_type": "markdown",
   "metadata": {},
   "source": [
    "### Exercise: Division in Python\n",
    "\n"
   ]
  },
  {
   "cell_type": "markdown",
   "metadata": {},
   "source": [
    "Describe the differences between the following lines\n",
    "\n"
   ]
  },
  {
   "cell_type": "code",
   "execution_count": null,
   "metadata": {},
   "outputs": [],
   "source": [
    "float_one = 1.0\n",
    "float_two = 2.0\n",
    "int_one = 1\n",
    "int_two = 2\n",
    "\n",
    "print(int_one/int_two)\n",
    "print(float_one/int_two)\n",
    "print(int_one/float_two)\n",
    "print(float_one/float_two)\n",
    "\n",
    "print(int_one//int_two)\n",
    "print(float_one//int_two)\n",
    "print(int_one//float_two)\n",
    "print(float_one//float_two)"
   ]
  },
  {
   "cell_type": "markdown",
   "metadata": {},
   "source": [
    "## Strings\n",
    "\n"
   ]
  },
  {
   "cell_type": "markdown",
   "metadata": {},
   "source": [
    "Python is much more than a calculator obviously. In the previous notebook, you saw your first example of a <span class=\"underline\">string</span>. For our purposes you can think of a string as regular text (technically a sequence of characters). In order to distinguish your code from the text you want to specify, we need to wrap strings in quotes.\n",
    "\n"
   ]
  },
  {
   "cell_type": "code",
   "execution_count": null,
   "metadata": {},
   "outputs": [],
   "source": [
    "word = \"hello\"\n",
    "print(\"the variable word is now storing \", word)\n",
    "word = \"word\"\n",
    "print(\"the variable word, has been updated to \", word)"
   ]
  },
  {
   "cell_type": "markdown",
   "metadata": {},
   "source": [
    "Strings can also be wrapped in single quotes rather than double quotes. Python doesn't make a distinction\n",
    "\n"
   ]
  },
  {
   "cell_type": "code",
   "execution_count": null,
   "metadata": {},
   "outputs": [],
   "source": [
    "neighbor = 'Mr. Rogers'\n",
    "print(\"Hello, \", neighbor)"
   ]
  },
  {
   "cell_type": "markdown",
   "metadata": {},
   "source": [
    "Python also provides a convenient way to format strings. Instead of printing \"Hello\" and `neighbor` separately, we can make a single string that has a fixed and variable part with a <span class=\"underline\">format string</span>.\n",
    "\n"
   ]
  },
  {
   "cell_type": "code",
   "execution_count": null,
   "metadata": {},
   "outputs": [],
   "source": [
    "greeting = f\"Hello, {neighbor}\"\n",
    "print(greeting)"
   ]
  },
  {
   "cell_type": "markdown",
   "metadata": {},
   "source": [
    "The `f` before the string indicates that it's a special type of string, namely a format string. This allows us to put in the value of a variable into the string as long as we wrap it with curly braces.\n",
    "\n",
    "Format strings can also be used to print numbers with a certain format. For example, in USD, the smallest denomination is a penny, meaning prices shouldn't go past 2 decimals\n",
    "\n"
   ]
  },
  {
   "cell_type": "code",
   "execution_count": null,
   "metadata": {},
   "outputs": [],
   "source": [
    "item_cost = 5.99\n",
    "tax_rate = .0925 # california sales tax\n",
    "tax = item_cost * tax_rate\n",
    "total = item_cost + tax\n",
    "print(total) # without formatting\n",
    "print(f\"Your total today is ${total:.2f}\")"
   ]
  },
  {
   "cell_type": "markdown",
   "metadata": {},
   "source": [
    "What happens if you want your text to include a quote? How does the computer know whether the quote is part of the string or marking the end of the string? There's a special way to tell Python that as well!\n",
    "\n"
   ]
  },
  {
   "cell_type": "code",
   "execution_count": null,
   "metadata": {},
   "outputs": [],
   "source": [
    "print(\"I'm a \\\"quotation\\\" in a quotation.\")"
   ]
  },
  {
   "cell_type": "markdown",
   "metadata": {},
   "source": [
    "Here, we've inserted a '\\\\' before the quote to tell Python that we \\_literal<sub>ly</sub> mean a quote, rather than designating the end of the string. This is known as \"escaping\" the character. There are also a few other useful character literals, such as tabs and newlines.\n",
    "\n"
   ]
  },
  {
   "cell_type": "code",
   "execution_count": null,
   "metadata": {},
   "outputs": [],
   "source": [
    "print(\"Here is the tab feature, for spacing things out horizontally\")\n",
    "print(\"1\\t2\\t3\")\n",
    "print(\"Here is the tab feature, for spacing things out vertically\")\n",
    "print(\"1\\n2\\n3\")"
   ]
  },
  {
   "cell_type": "markdown",
   "metadata": {},
   "source": [
    "### Exercise: Printing quotes\n",
    "\n"
   ]
  },
  {
   "cell_type": "markdown",
   "metadata": {},
   "source": [
    "Print the sentence `I'm a \"quotation\" in a quotation.` but this time with single quotes rather than double quotes for the whole string.\n",
    "\n"
   ]
  },
  {
   "cell_type": "code",
   "execution_count": null,
   "metadata": {},
   "outputs": [],
   "source": [
    "print('fill this in')"
   ]
  },
  {
   "cell_type": "markdown",
   "metadata": {},
   "source": [
    "### Exercise: Helping special symbols escape\n",
    "\n"
   ]
  },
  {
   "cell_type": "markdown",
   "metadata": {},
   "source": [
    "Use Escaping to help print out what you see\n",
    "\n"
   ]
  },
  {
   "cell_type": "code",
   "execution_count": null,
   "metadata": {},
   "outputs": [],
   "source": [
    "print('To insert a tab, type \\t')\n",
    "print('To insert a newline, type \\n between the lines')"
   ]
  },
  {
   "cell_type": "markdown",
   "metadata": {},
   "source": [
    "## Lists\n",
    "\n"
   ]
  },
  {
   "cell_type": "markdown",
   "metadata": {},
   "source": [
    "Lists refer to a collection of objects. In Python, you can create a list simply by putting objects inside square brackets [] and separating objects by commas. An empty <span class=\"underline\">list</span> is denoted by `[]` We'll show you how to modify lists later by removing or adding elements.\n",
    "\n"
   ]
  },
  {
   "cell_type": "code",
   "execution_count": null,
   "metadata": {},
   "outputs": [],
   "source": [
    "my_nums = [1, 2, 3, 4, 5, 6, 7, 8, 9, 10] # here is a list of integers\n",
    "my_fruits = ['apples', 'oranges', 'bananas'] # you can also use lists to store strings!\n",
    "my_mixed_list = ['go', 'airbears', 2] # you can store objects of different types\n",
    "my_empty_list = []"
   ]
  },
  {
   "cell_type": "markdown",
   "metadata": {},
   "source": [
    "### Accessing list items with an index\n",
    "\n"
   ]
  },
  {
   "cell_type": "markdown",
   "metadata": {},
   "source": [
    "You can access individual items by their <span class=\"underline\">index</span>. Python uses 0-based counting, meaning that to access the first item, you would ask for the item at index 0. To access the item at index 0, the notation is to follow your list by the index wrapped in square brackets.\n",
    "\n"
   ]
  },
  {
   "cell_type": "code",
   "execution_count": null,
   "metadata": {},
   "outputs": [],
   "source": [
    "print(my_nums[0]) # Should print 1\n",
    "print(my_mixed_list[0], my_mixed_list[1])"
   ]
  },
  {
   "cell_type": "markdown",
   "metadata": {},
   "source": [
    "### \"append\" and \"remove\" methods\n",
    "\n"
   ]
  },
  {
   "cell_type": "markdown",
   "metadata": {},
   "source": [
    "To add to a list, you can use the `append` method. A <span class=\"underline\">method</span> is like a helper routine that belongs to an object in python. In this case, the object is the list, and the `append` method assists in the task of adding an object to the end of the list.\n",
    "\n"
   ]
  },
  {
   "cell_type": "code",
   "execution_count": null,
   "metadata": {},
   "outputs": [],
   "source": [
    "my_empty_list = []\n",
    "my_empty_list.append(\"A\") # 'append' adds the item \"A\" to the list\n",
    "# uncomment the lines below to see the intermediate state of my_empty_list\n",
    "# to uncomment, simply delete the \"# \" at the start\n",
    "# print(my_empty_list)\n",
    "my_empty_list.append(\"C\")\n",
    "my_empty_list.append(\"B\")\n",
    "print(my_empty_list) # not so empty anymore!"
   ]
  },
  {
   "cell_type": "markdown",
   "metadata": {},
   "source": [
    "To remove objects, you can pass the index to be removed to the `remove` method.\n",
    "\n"
   ]
  },
  {
   "cell_type": "code",
   "execution_count": null,
   "metadata": {},
   "outputs": [],
   "source": [
    "# my_empty_list looks like [\"A\", \"C\", \"B\"]\n",
    "my_empty_list.pop(1) # This removes the second item (0-based!)\n",
    "my_empty_list.append(\"C\") # Now our list should be in alphabetical order!"
   ]
  },
  {
   "cell_type": "markdown",
   "metadata": {},
   "source": [
    "### Fancy indexing\n",
    "\n"
   ]
  },
  {
   "cell_type": "markdown",
   "metadata": {},
   "source": [
    "There are some other special ways of <span class=\"underline\">indexing</span> (grabbing items by their index) in Python. In addition to the position from the start, we can specify the position relative to the end of the list with negative numbers. The last element in the list has index -1.\n",
    "\n"
   ]
  },
  {
   "cell_type": "code",
   "execution_count": null,
   "metadata": {},
   "outputs": [],
   "source": [
    "print(my_fruits[-1]) # Should be 'bananas'\n",
    "print(my_fruits[-2]) # Should be 'oranges'\n",
    "print(my_fruits[1]) # Should also be 'oranges'"
   ]
  },
  {
   "cell_type": "markdown",
   "metadata": {},
   "source": [
    "Sometimes we want to grab multiple objects at the same time. For consecutive items in a list, Python provides a convenient way to do this by specifying the start and end index.\n",
    "\n",
    "Importantly, the end index is **non-inclusive**. This means that the item at the \"end\" index won't be included in the sequence. In Python, this is referred to as \"slicing\".\n",
    "\n",
    "Remember that before we accessed an item by putting the index in square brackets after the list name. Here, we put the slice in square brackets like so `start:end]`\n",
    "\n"
   ]
  },
  {
   "cell_type": "code",
   "execution_count": null,
   "metadata": {},
   "outputs": [],
   "source": [
    "# my_nums is a list of numbers 1 through 10\n",
    "start_index = 0\n",
    "end_index = 4\n",
    "print(\"My slice is \", my_nums[start_index:end_index])\n",
    "my_nums"
   ]
  },
  {
   "cell_type": "markdown",
   "metadata": {},
   "source": [
    "### Exercise: Slice and Dice\n",
    "\n"
   ]
  },
  {
   "cell_type": "markdown",
   "metadata": {},
   "source": [
    "-   In the above cell, how many numbers were selected by the slice? How does this compare to the difference (`end_index` - `start_index`)?\n",
    "-   Modify the above cell to print out the numbers 3-7\n",
    "-   use negative slicing to get the last 4 elements\n",
    "\n"
   ]
  },
  {
   "cell_type": "markdown",
   "metadata": {},
   "source": [
    "## Functions\n",
    "\n"
   ]
  },
  {
   "cell_type": "markdown",
   "metadata": {},
   "source": [
    "Functions are routines  that you can use to redo  computation. They also highly increase readability when there is a common computation going on. Before there was Netflix, people used to have to rent movies one at a time from Blockbuster. They charged you a base fee and then a nightly rental fee. Let's suppose the base fee was \\\\$5 and the nightly fee was \\\\$2. We can use python to calculate the rental fee for different numbers of days. Let's calculate the cost for a single day, a week, and a month.\n",
    "\n"
   ]
  },
  {
   "cell_type": "code",
   "execution_count": null,
   "metadata": {},
   "outputs": [],
   "source": [
    "day_rental_cost = 5 + 2\n",
    "week_rental_cost = 5 + 2 * 7\n",
    "month_rental_cost = 5 + 2 * 31 # assuming 31 days in the month"
   ]
  },
  {
   "cell_type": "markdown",
   "metadata": {},
   "source": [
    "This is still pretty readable because it is simple, but it is more tedious and susceptible to typos if you type it out every time.\n",
    "\n",
    "Instead, we can write a function that <span class=\"underline\">encapsulates</span> the logic. That way we can write it once and apply it multiple times. The syntax for writing a function uses the `def` keyword.\n",
    "\n"
   ]
  },
  {
   "cell_type": "code",
   "execution_count": null,
   "metadata": {},
   "outputs": [],
   "source": [
    "def calculate_rental_fee(num_days):\n",
    "    base_fee = 5\n",
    "    daily_rate = 2\n",
    "    return base_fee + daily_rate * num_days"
   ]
  },
  {
   "cell_type": "markdown",
   "metadata": {},
   "source": [
    "Let's break down the anatomy of the last cell. We started off with the def keyword to let Python know we are about to define a function named `calculate_rental_fee`. The following parentheses are used to demarcate our <span class=\"underline\">arguments</span>. Arguments are variables which are <span class=\"underline\">passed</span> into the function that we can refer to later. For a math example, consider $f(x) = x^2$. We would call $x$ the argument to the function $f$. Our function will take in the number of days as an argument.\n",
    "\n",
    "The actual guts of the function are specified below. Note the indentation of the lines below it. The whitespace here is very important! It tells Python that this group of lines belongs to the same <span class=\"underline\">block</span>. Finally, the `return` keyword indicates the result of the computation that should be returned to the caller.\n",
    "\n",
    "Using our new function, we can rewrite the cell above as follows\n",
    "\n"
   ]
  },
  {
   "cell_type": "code",
   "execution_count": null,
   "metadata": {},
   "outputs": [],
   "source": [
    "day_rental_cost = calculate_rental_fee(1)\n",
    "week_rental_cost = calculate_rental_fee(7)\n",
    "month_rental_cost = calculate_rental_fee(31)"
   ]
  },
  {
   "cell_type": "markdown",
   "metadata": {},
   "source": [
    "Here we are assigning variables values that are the output of our function. We also refer to this right hand side as \"calling\" the function, <span class=\"underline\">passing</span> in the number of days as the argument. We will use the word parameter interchangeably with argument.\n",
    "\n",
    "By writing the function logic once, we make our code less susceptible to typing errors and we only have to fix it in one spot. Not to mention, smart function names can help the readability.\n",
    "\n"
   ]
  },
  {
   "cell_type": "markdown",
   "metadata": {},
   "source": [
    "### Exercise: Position Function\n",
    "\n"
   ]
  },
  {
   "cell_type": "markdown",
   "metadata": {},
   "source": [
    "Write a function that takes in 4 arguments, 'x<sub>0</sub>', 'v<sub>0</sub>', 'a', and 't' that returns the position after time 't'. Mathematically, it should be $x(t) = x_0 + v_0 t + \\frac{1}{2}  a  t^2$. Name your function something reasonable.\n",
    "\n"
   ]
  },
  {
   "cell_type": "code",
   "execution_count": null,
   "metadata": {},
   "outputs": [],
   "source": [
    "# Fill in your function here!"
   ]
  },
  {
   "cell_type": "markdown",
   "metadata": {},
   "source": [
    "## Libraries\n",
    "\n"
   ]
  },
  {
   "cell_type": "markdown",
   "metadata": {},
   "source": [
    "Sometimes you don't want to write all your own functions. To use ones that other people have built, we refer to this as importing. Other people who work on code will package their functions into <span class=\"underline\">modules</span> or <span class=\"underline\">libraries</span>. One basic module is the `math` module.\n",
    "\n"
   ]
  },
  {
   "cell_type": "code",
   "execution_count": null,
   "metadata": {},
   "outputs": [],
   "source": [
    "import math"
   ]
  },
  {
   "cell_type": "markdown",
   "metadata": {},
   "source": [
    "We can now call functions that are part of the math library\n",
    "\n"
   ]
  },
  {
   "cell_type": "code",
   "execution_count": null,
   "metadata": {},
   "outputs": [],
   "source": [
    "print(math.sin(math.pi)) # should print 0\n",
    "print(math.cos(math.pi)) # should print -1\n",
    "# 180 degrees is equal to pi radians"
   ]
  },
  {
   "cell_type": "markdown",
   "metadata": {},
   "source": [
    "Probably for 90% of the tasks you would ever want to do, someone else has had a similar thought. Many times if you search hard enough you can find a function that someone else has written.\n",
    "\n",
    "Other libraries that we will make use of is [NumPy](https://numpy.org/) (numerical Python) and [matplotlib](https://matplotlib.org/3.1.1/gallery/index.html) . Numpy provides an way to treat lists of numbers as vectors and correspondingly provides a lot of additional functionality. Matplotlib is the go-to way to plot things in Python today. We'll discuss these in a later notebook.\n",
    "\n"
   ]
  },
  {
   "cell_type": "markdown",
   "metadata": {},
   "source": [
    "## Errors\n",
    "\n"
   ]
  },
  {
   "cell_type": "markdown",
   "metadata": {},
   "source": [
    "The final topic for this notebook is Errors. So far if you have been running the cells as is, they should have just reported the results of the code. But what happens if you run a cell that has an invalid command or a typo? Let's see an example.\n",
    "\n"
   ]
  },
  {
   "cell_type": "code",
   "execution_count": null,
   "metadata": {},
   "outputs": [],
   "source": [
    "# We want to print the string \"Hello, world!\" but forgot to put the close quotation mark.\n",
    "print(\"Hello, world!)"
   ]
  },
  {
   "cell_type": "markdown",
   "metadata": {},
   "source": [
    "What you should see after running this erroneously typed code is two things. The first is that it is showing the location of the offending line of code. In this case, we can see it's the code we just executed. Other times, it can be more involved or referencing code in a different location.\n",
    "\n",
    "The second is that it prints exactly the type of error that occurred. Here, it was a `SyntaxError`, and there is even a subtext that says we got an End of Line (EOL) error. The messages can be rather cryptic, but often more helpful explanations can be found by googling the whole line with the error message. Once you see enough of them, you will quickly be able to correct them without having to look up the error message every time!\n",
    "\n"
   ]
  }
 ],
 "metadata": {
  "kernelspec": {
   "display_name": "Python 3",
   "language": "python",
   "name": "python3"
  },
  "language_info": {
   "codemirror_mode": {
    "name": "ipython",
    "version": 3
   },
   "file_extension": ".py",
   "mimetype": "text/x-python",
   "name": "python",
   "nbconvert_exporter": "python",
   "pygments_lexer": "ipython3",
   "version": "3.6.11"
  },
  "org": null
 },
 "nbformat": 4,
 "nbformat_minor": 1
}
