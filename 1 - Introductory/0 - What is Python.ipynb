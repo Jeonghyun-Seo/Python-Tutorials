{
 "cells": [
  {
   "cell_type": "markdown",
   "metadata": {},
   "source": [
    "# What is Python\n",
    "Click [here](https://datahub.berkeley.edu/hub/user-redirect/git-pull?repo=https%3A%2F%2Fgithub.com%2Fberkeley-physics%2FPython-Tutorials&urlpath=tree%2FPython-Tutorials%2F1+-+Introductory%2F0+-+What+is+Python.ipynb&branch=master) to open this notebook in the DataHub.\n",
    "\n",
    "## Learning objectives\n",
    "By the end of this tutorial, you will be able to:\n",
    "- Describe what Python is\n",
    "- Learn to print\n",
    "- Write your first line of code\n",
    "- Explain how to put a comment in your code\n",
    "\n",
    "## Who is this for?\n",
    "This guide is intended for students with little to no experience with Python, much less programming in general. By the end of this set of notebooks hopefully it won't be intimidating to read through notebooks to understand what they're doing, and you will be equipped to write some basic programs!\n",
    "\n",
    "## What is Python\n",
    "Python is a programming language, enabling us to tell the computer how to work for us. Learning to program can seem daunting at first because of the funny <span class=\"underline\">syntax</span>, but really we are just learning <span class=\"underline\">how to precisely</span> tell the computer what to do, much like you might have learned how to talk to a younger sibling when you need them to do something.\n",
    "\n",
    "## Where am I?\n",
    "\n",
    "If you are reading this, chances are you are in a Jupyter notebook environment. Jupyter notebooks are great for sharing bits of code with explanations. They have a mix of text and code intermingled. You can <span class=\"underline\">execute</span> code by either hitting 'shift + enter' or hitting the play button at the top. Code execution just means you are done writing your instructions for the computer and want the computer to carry them out.\n",
    "\n",
    "In a Jupyter notebook, the code gets executed one block at a time. These are called cells.\n",
    "\n",
    "Try running the cell below for your first program! You can either press `Shift + Enter` or there is a button in the toolbar at the top that says `Run`."
   ]
  },
  {
   "cell_type": "code",
   "execution_count": null,
   "metadata": {},
   "outputs": [],
   "source": [
    "print(\"Hello, world!\")"
   ]
  },
  {
   "cell_type": "markdown",
   "metadata": {},
   "source": [
    "Often times, code can get a lot more complicated than a self-explanatory print statement. <span class=\"underline\">Comments</span> are a great way to annotate what the code is doing. In Python, the '#' symbol is special and reserved for the purpose of commenting. Anything on the same line after '#' is ignored by the computer, but should be readily readable by any humans.\n",
    "\n"
   ]
  },
  {
   "cell_type": "code",
   "execution_count": null,
   "metadata": {},
   "outputs": [],
   "source": [
    "# In this cell, we will demonstrate the comment functionality\n",
    "# This text is not read by the program, but will be visible to humans.\n",
    "print(\"Hello, world!\") # You can add comments to the end of lines, too!"
   ]
  },
  {
   "cell_type": "markdown",
   "metadata": {},
   "source": [
    "Later, we will see that comments can also be used to \"mute\" or \"unmute\" lines of code.\n",
    "\n"
   ]
  },
  {
   "cell_type": "markdown",
   "metadata": {},
   "source": [
    "### Exercise: \"Hello, world!\"\n",
    "\n"
   ]
  },
  {
   "cell_type": "markdown",
   "metadata": {},
   "source": [
    "Change the cell below with your name and execute (or run) it.\n",
    "\n"
   ]
  },
  {
   "cell_type": "code",
   "execution_count": null,
   "metadata": {},
   "outputs": [],
   "source": [
    "# Replace <your name here> with your actual name!\n",
    "print(\"Hello, world! My name is <your name here>.\")"
   ]
  },
  {
   "cell_type": "markdown",
   "metadata": {},
   "source": [
    "## Where do I go now?\n",
    "\n"
   ]
  },
  {
   "cell_type": "markdown",
   "metadata": {},
   "source": [
    "This is the end of this first tutorial. In order to access your other files (including notebooks), click the `jupyter` logo at the top.\n",
    "\n"
   ]
  }
 ],
 "metadata": {
  "kernelspec": {
   "display_name": "Python 3",
   "language": "python",
   "name": "python3"
  },
  "language_info": {
   "codemirror_mode": {
    "name": "ipython",
    "version": 3
   },
   "file_extension": ".py",
   "mimetype": "text/x-python",
   "name": "python",
   "nbconvert_exporter": "python",
   "pygments_lexer": "ipython3",
   "version": "3.8.5"
  },
  "org": null
 },
 "nbformat": 4,
 "nbformat_minor": 1
}
