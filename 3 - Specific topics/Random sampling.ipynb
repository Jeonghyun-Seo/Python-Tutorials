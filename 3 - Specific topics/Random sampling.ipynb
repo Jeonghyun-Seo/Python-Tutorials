{
 "cells": [
  {
   "cell_type": "markdown",
   "metadata": {},
   "source": [
    "# Random sampling\n",
    "Click [here](https://datahub.berkeley.edu/hub/user-redirect/git-pull?repo=https%3A%2F%2Fgithub.com%2Fberkeley-physics%2FPython-Tutorials&urlpath=tree%2FPython-Tutorials%2F3+-+Specific+topics%2FRandom+sampling.ipynb&branch=master) to open this notebook in the DataHub.\n",
    "\n",
    "## Learning objectives\n",
    "By the end of this tutorial, you will be able to:\n",
    "- Sample from a uniform random distribution\n",
    "- Sample from a discrete distribution\n",
    "- Sample from a normal distribution\n",
    "- Sample from a multivariate Gaussian distribution with a given covariance matrix\n",
    "\n",
    "## Relevant documentation\n",
    "- [Numpy `random.Generator`](https://numpy.org/doc/stable/reference/random/generator.html#numpy.random.Generator)\n",
    "\n",
    "## Technical note\n",
    "This tutorial uses a new RNG algorithm that was added to numpy in a relatively recent version. If the environemnt you are running this on does not have a new enough numpy distirbution, you will get the error `TypeError: module 'numpy.random' has no attribute 'default_rng'` in the first cell below. If you get such an error, try running the cell below, which will upgrade to the newest version of numpy, and then restart the kernel (under the \"Kernel\" menu option above). "
   ]
  },
  {
   "cell_type": "code",
   "execution_count": null,
   "metadata": {},
   "outputs": [],
   "source": [
    "!pip install --upgrade numpy"
   ]
  },
  {
   "cell_type": "markdown",
   "metadata": {},
   "source": [
    "## Uniform distributions\n",
    "NumPy contains a \"random\" number generator, which uses a complex algorithm (you can read about it in the docs) to deterministically generate a pseudo-random sequence of independent uniformly-distributed bits, based on a given _seed_. This allows you to obtain seemingly random numbers that can be later recreated.\n",
    "\n",
    "To obtain an object representing an RNG, call `numpy.random.default_rng`, passing your seed. If you don't set the seed explicitly, it will use a \"random\" number from the OS, such as the current system time, or some properties of memory addresses."
   ]
  },
  {
   "cell_type": "code",
   "execution_count": 1,
   "metadata": {},
   "outputs": [
    {
     "data": {
      "text/plain": [
       "numpy.random._generator.Generator"
      ]
     },
     "execution_count": 1,
     "metadata": {},
     "output_type": "execute_result"
    }
   ],
   "source": [
    "import numpy as np\n",
    "\n",
    "rng = np.random.default_rng(56735) #use your own seed (or remove it)\n",
    "type(rng)"
   ]
  },
  {
   "cell_type": "markdown",
   "metadata": {},
   "source": [
    "You can obtain random floats between 0 and 1 by calling the `random` method on the RNG object."
   ]
  },
  {
   "cell_type": "code",
   "execution_count": null,
   "metadata": {},
   "outputs": [],
   "source": [
    "rng.random(5)"
   ]
  },
  {
   "cell_type": "markdown",
   "metadata": {},
   "source": [
    "Fill in the following function to scale and shift a bunch of random integers between 0 and 1 in an array `randoms` to a uniform distribution between any two given endpoints $a<b$:"
   ]
  },
  {
   "cell_type": "code",
   "execution_count": null,
   "metadata": {},
   "outputs": [],
   "source": [
    "def uniform_distribution(randoms, a, b):\n",
    "    return "
   ]
  },
  {
   "cell_type": "markdown",
   "metadata": {},
   "source": [
    "You can use the `hist` function in matplotlib to plot a histogram."
   ]
  },
  {
   "cell_type": "code",
   "execution_count": null,
   "metadata": {},
   "outputs": [],
   "source": [
    "%matplotlib inline\n",
    "from matplotlib import pyplot as plt\n",
    "\n",
    "plt.hist(uniform_distribution(rng.random(2000),-3,5))"
   ]
  },
  {
   "cell_type": "markdown",
   "metadata": {},
   "source": [
    "## Discrete distributions\n",
    "To sample from a uniform distribution of integers, use the `integers` method:"
   ]
  },
  {
   "cell_type": "code",
   "execution_count": null,
   "metadata": {},
   "outputs": [],
   "source": [
    "rng.integers(10,size=20)"
   ]
  },
  {
   "cell_type": "markdown",
   "metadata": {},
   "source": [
    "You can also map this to equiprobable choices from a given array:"
   ]
  },
  {
   "cell_type": "code",
   "execution_count": null,
   "metadata": {},
   "outputs": [],
   "source": [
    "rng.choice([\"red\",\"blue\",\"green\"],30)"
   ]
  },
  {
   "cell_type": "markdown",
   "metadata": {},
   "source": [
    "There are several other methods that might be useful: see the docs for a list of these. \n",
    "\n",
    "What if we wanted to sample from a non-uniform distribution? For example, suppose we wanted to get 0 with 90% porbability and 1 with 10% probability. We can re-use the `random` method (which returns floats between 0 and 1), as shown below."
   ]
  },
  {
   "cell_type": "code",
   "execution_count": null,
   "metadata": {},
   "outputs": [],
   "source": [
    "bools = rng.random(50) > 0.9\n",
    "ints = bools.astype(int)\n",
    "ints"
   ]
  },
  {
   "cell_type": "markdown",
   "metadata": {},
   "source": [
    "Using a similar technique, fill in the following function that, given an array of random floats (between 0 and 1) and an array of probabilities $p_0,p_1,p_2,...$ (summing to 1) returns an array of random integers where index $i$ appears with probability $p_i$."
   ]
  },
  {
   "cell_type": "code",
   "execution_count": null,
   "metadata": {},
   "outputs": [],
   "source": [
    "def discrete_distribution(randoms, probs):\n",
    "    x = zeros(randoms.size, dtype=int)\n",
    "    \n",
    "    return x\n",
    "\n",
    "discrete_distribution(rng.random(50),[0.1,0.6,0.3])"
   ]
  },
  {
   "cell_type": "markdown",
   "metadata": {},
   "source": [
    "## Gaussian distributions\n",
    "Typically the strategy to sample from non-uniform continuous distributions is to transform the uniformly deviates in a way that the probability distribution transforms to the desired one. For several commonly-used distributions, these transformations have been implemented by NumPy (see the docs). To sample from the standard normal distribution (Gaussian centred at 0 with unit variance), use the `standard_normal` method."
   ]
  },
  {
   "cell_type": "code",
   "execution_count": null,
   "metadata": {},
   "outputs": [],
   "source": [
    "randoms = rng.standard_normal(10000)\n",
    "plt.hist(randoms, bins=50)"
   ]
  },
  {
   "cell_type": "markdown",
   "metadata": {},
   "source": [
    "You can change the mean and standard deviation by sclaing and shifting the random numbers you obtain, or by using the `normal` method."
   ]
  },
  {
   "cell_type": "code",
   "execution_count": null,
   "metadata": {},
   "outputs": [],
   "source": [
    "randoms = rng.normal(100,20,10000)\n",
    "plt.hist(randoms, bins=50)"
   ]
  },
  {
   "cell_type": "markdown",
   "metadata": {},
   "source": [
    "To sample from a given covaraince matrix, use the `multivarite_normal` method."
   ]
  },
  {
   "cell_type": "code",
   "execution_count": null,
   "metadata": {},
   "outputs": [],
   "source": [
    "mean = [1,-2]\n",
    "cov = [[1,-0.3],[-0.3,0.5]]\n",
    "randoms = rng.multivariate_normal(mean, cov, 20000)\n",
    "plt.hist2d(randoms[:,0], randoms[:,1], bins=50)"
   ]
  }
 ],
 "metadata": {
  "kernelspec": {
   "display_name": "Python 3",
   "language": "python",
   "name": "python3"
  },
  "language_info": {
   "codemirror_mode": {
    "name": "ipython",
    "version": 3
   },
   "file_extension": ".py",
   "mimetype": "text/x-python",
   "name": "python",
   "nbconvert_exporter": "python",
   "pygments_lexer": "ipython3",
   "version": "3.6.11"
  }
 },
 "nbformat": 4,
 "nbformat_minor": 4
}
