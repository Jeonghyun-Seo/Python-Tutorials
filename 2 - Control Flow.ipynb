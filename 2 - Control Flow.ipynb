{
 "cells": [
  {
   "cell_type": "markdown",
   "metadata": {},
   "source": [
    "## Control flow\n",
    "\n"
   ]
  },
  {
   "cell_type": "markdown",
   "metadata": {},
   "source": [
    "This notebook is all about control flow. This is a fancy way of saying that we want to be able to tell our program what to do without explicitly typing every line that it executes.\n",
    "\n"
   ]
  },
  {
   "cell_type": "markdown",
   "metadata": {},
   "source": [
    "## Objectives\n",
    "\n"
   ]
  },
  {
   "cell_type": "markdown",
   "metadata": {},
   "source": [
    "-   use if/else statements to handle logic for separate cases\n",
    "-   Use for loops to repeat a task multiple times\n",
    "-   Use for loops to *iterate* over a list\n",
    "-   Use `while` loops to iterate until a <span class=\"underline\">condition</span> is met\n",
    "\n"
   ]
  },
  {
   "cell_type": "markdown",
   "metadata": {},
   "source": [
    "## If-else paradigm\n",
    "\n"
   ]
  },
  {
   "cell_type": "markdown",
   "metadata": {},
   "source": [
    "If statements are the way that we express conditional statements.\n",
    "Conditional statements take the form \"if\" *x*, then *y*.\n",
    "\n"
   ]
  },
  {
   "cell_type": "code",
   "execution_count": 1,
   "metadata": {},
   "outputs": [],
   "source": [
    "# if x is divisible by two, print that x is even\n",
    "def is_even_a(x):\n",
    "    if x % 2 == 0: # % gets the remainder of x / 2\n",
    "        print(\"x is even.\")\n",
    "        # any other code that should be run if x is even\n",
    "    return # this line gets executed even if x is not even."
   ]
  },
  {
   "cell_type": "markdown",
   "metadata": {},
   "source": [
    "Let's try calling it!\n",
    "\n"
   ]
  },
  {
   "cell_type": "code",
   "execution_count": 1,
   "metadata": {},
   "outputs": [],
   "source": [
    "print(is_even_a(2))\n",
    "print(is_even_a(1))"
   ]
  },
  {
   "cell_type": "markdown",
   "metadata": {},
   "source": [
    "Notice that only in the first call was the print statement executed. If\n",
    "*x* wasn't even, then nothing happened.\n",
    "\n",
    "Let's upgrade our function by also checking whether x is odd. The syntax\n",
    "to do this additional check is `elif`, short for \"else if\". The `elif`\n",
    "lets Python know that this check is related to the previous `if`.\n",
    "\n"
   ]
  },
  {
   "cell_type": "code",
   "execution_count": 1,
   "metadata": {},
   "outputs": [],
   "source": [
    "def is_even_b(x):\n",
    "    if x % 2 == 0:\n",
    "        print(\"x is even.\")\n",
    "    elif x % 2 == 1:\n",
    "        print(\"x is odd.\")\n",
    "    return\n",
    "print(is_even_b(2))\n",
    "print(is_even_b(1))"
   ]
  },
  {
   "cell_type": "markdown",
   "metadata": {},
   "source": [
    "Now we get two print statements!\n",
    "\n",
    "Finally, there's another keyword `else` that is useful when none of your\n",
    "conditional statements are true, but you would still like to handle the\n",
    "scenario.\n",
    "\n"
   ]
  },
  {
   "cell_type": "code",
   "execution_count": 1,
   "metadata": {},
   "outputs": [],
   "source": [
    "def is_even_c(x):\n",
    "    if x % 2 == 0:\n",
    "        print(\"x is even.\")\n",
    "    elif x % 2 == 1:\n",
    "        print(\"x is odd.\")\n",
    "    else:\n",
    "        print(\"x is not an integer\")\n",
    "    return\n",
    "\n",
    "print(is_even_c(2))\n",
    "print(is_even_c(1))\n",
    "print(is_even_c(.5))"
   ]
  },
  {
   "cell_type": "markdown",
   "metadata": {},
   "source": [
    "### Exercise: Adding your own if statement\n",
    "\n"
   ]
  },
  {
   "cell_type": "markdown",
   "metadata": {},
   "source": [
    "Augment the `is_even` function to print \"Try again with a positive number\" if the input is negative.\n",
    "\n"
   ]
  },
  {
   "cell_type": "code",
   "execution_count": 1,
   "metadata": {},
   "outputs": [],
   "source": [
    "def is_even(x):\n",
    "    # put logic here\n",
    "    return"
   ]
  },
  {
   "cell_type": "markdown",
   "metadata": {},
   "source": [
    "### Exercise: 2 \"if\"s vs \"elif\"\n",
    "\n"
   ]
  },
  {
   "cell_type": "markdown",
   "metadata": {},
   "source": [
    "What is the difference between one \"if, elif\" statement versus two separate \"if\"\n",
    "statement? Write some code to test it out. You can copy/paste and then modify\n",
    "the `is_even` functions above.\n",
    "\n"
   ]
  },
  {
   "cell_type": "markdown",
   "metadata": {},
   "source": [
    "### Exercise: Absolute value\n",
    "\n"
   ]
  },
  {
   "cell_type": "markdown",
   "metadata": {},
   "source": [
    "Use if-else statement to define the function `absolute_value(x)`\n",
    "\n"
   ]
  },
  {
   "cell_type": "code",
   "execution_count": 1,
   "metadata": {},
   "outputs": [],
   "source": [
    "# Fill this in"
   ]
  },
  {
   "cell_type": "markdown",
   "metadata": {},
   "source": [
    "## For loops\n",
    "\n"
   ]
  },
  {
   "cell_type": "markdown",
   "metadata": {},
   "source": [
    "For loops are a way to specify that you would like to repeat, or\n",
    "*iterate* a calculation. The most basic way to do this is on a list of\n",
    "numbers. For loops help greatly when trying to execute repetitive tasks.\n",
    "\n"
   ]
  },
  {
   "cell_type": "code",
   "execution_count": 1,
   "metadata": {},
   "outputs": [],
   "source": [
    "for i in [0, 1, 2, 3, 4]:\n",
    "    print(i)"
   ]
  },
  {
   "cell_type": "markdown",
   "metadata": {},
   "source": [
    "Let's break down the anatomy.\n",
    "\n",
    "We start with a list of numbers 0-4. This for loop *iterates* over each\n",
    "item in the list. The syntax `for i in [0, 1,2,3,4]` means that the\n",
    "variable `i` will be used to hold each of the values in the list. After\n",
    "the colon, the *block* will run with whatever the value of `i` is used\n",
    "for that iteration.\n",
    "\n",
    "A very handy function is the `range` function, which takes in a number\n",
    "and returns an *iterable* (something that can be iterated over). We can\n",
    "recreate the above example as follows\n",
    "\n"
   ]
  },
  {
   "cell_type": "code",
   "execution_count": 1,
   "metadata": {},
   "outputs": [],
   "source": [
    "for i in range(5): # 5 numbers starting from 0!\n",
    "    print(i)"
   ]
  },
  {
   "cell_type": "markdown",
   "metadata": {},
   "source": [
    "Note that the notation here might seem a bit strange at first. In order\n",
    "to get a list of numbers up to 4, we need to call =range(5)=. This is\n",
    "one of the oddities with starting with 0 as the first number. Counting\n",
    "0-4, there are 5 numbers.\n",
    "\n"
   ]
  },
  {
   "cell_type": "markdown",
   "metadata": {},
   "source": [
    "### Exercise: Iterate\n",
    "\n"
   ]
  },
  {
   "cell_type": "markdown",
   "metadata": {},
   "source": [
    "Use a `for` loop to add up integers 1 through 10. Try using the\n",
    "`range` function.\n",
    "\n"
   ]
  },
  {
   "cell_type": "code",
   "execution_count": 1,
   "metadata": {},
   "outputs": [],
   "source": [
    "total = 0\n",
    "# fill in for loop here"
   ]
  },
  {
   "cell_type": "markdown",
   "metadata": {},
   "source": [
    "## While loops\n",
    "\n"
   ]
  },
  {
   "cell_type": "markdown",
   "metadata": {},
   "source": [
    "A `while` loop can be helpful in running a block of code until a certain criteria is met. Often, a `while` loop can be used to express similar `for` loop statements.\n",
    "\n"
   ]
  },
  {
   "cell_type": "code",
   "execution_count": 1,
   "metadata": {},
   "outputs": [],
   "source": [
    "counter = 5\n",
    "while counter > 0:\n",
    "    print(f\"Countdown at {counter}\")\n",
    "    counter -= 1"
   ]
  },
  {
   "cell_type": "markdown",
   "metadata": {},
   "source": [
    "Let's break this down and compare it with the `for` loop. The first commonality is that there is a **block** that gets run for every iteration of the loop (remember that this block is denoted by the use of indentation!). The first difference is that the `for` loop iterates <span class=\"underline\">over</span> a set of objects. The `while` loop on the other hand has a <span class=\"underline\">boolean</span> expression called a **condition**.\n",
    "\n",
    "For the `while` loop, after the block is run, the boolean expression is checked again. If it is still `True`, then the block gets run again, and this goes on and on until the condition is `False`. Contrast this with the `for` loop that executes the block for every element in the set of objects and also keeps track of the current element.\n",
    "\n"
   ]
  },
  {
   "cell_type": "markdown",
   "metadata": {},
   "source": [
    "### What's the difference?\n",
    "\n"
   ]
  },
  {
   "cell_type": "markdown",
   "metadata": {},
   "source": [
    "Many times, both ways can be equivalently used. When both are an option, it is generally preferred to use `for` loops because they tend to be more explicit. However, there are cases where we don't know how many times we would like to do something in advance. These are where `while` loops shine. For example, if you are reading data from the internet, you want to keep reading until there's no more data left.\n",
    "\n",
    "For our purposes, we'll mostly use `for` loops, but it is good to know about `while` loops as well.\n",
    "\n"
   ]
  },
  {
   "cell_type": "markdown",
   "metadata": {},
   "source": [
    "### Exercise: Stuck for a while?\n",
    "\n"
   ]
  },
  {
   "cell_type": "markdown",
   "metadata": {},
   "source": [
    "Analyze the code below without running it first. What do you expect the behavior to be? What is different from the example while loop?\n",
    "\n"
   ]
  },
  {
   "cell_type": "code",
   "execution_count": 1,
   "metadata": {},
   "outputs": [],
   "source": [
    "counter = 5\n",
    "while True:\n",
    "    print(\"yes\")"
   ]
  },
  {
   "cell_type": "code",
   "execution_count": 1,
   "metadata": {},
   "outputs": [],
   "source": [
    "counter = 5\n",
    "while counter > 0:\n",
    "    print(f\"Countdown at {counter}\")"
   ]
  }
 ],
 "metadata": {
  "kernelspec": {
   "display_name": "Python 3",
   "language": "python",
   "name": "python3"
  },
  "language_info": {
   "codemirror_mode": {
    "name": "ipython",
    "version": 3
   },
   "file_extension": ".py",
   "mimetype": "text/x-python",
   "name": "python",
   "nbconvert_exporter": "python",
   "pygments_lexer": "ipython3",
   "version": "3.7.6"
  },
  "org": null
 },
 "nbformat": 4,
 "nbformat_minor": 1
}
