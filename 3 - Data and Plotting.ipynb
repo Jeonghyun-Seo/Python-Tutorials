{
 "cells": [
  {
   "cell_type": "markdown",
   "metadata": {},
   "source": [
    "## Data and Plotting (featuring Numpy and Matplotlib)\n",
    "\n"
   ]
  },
  {
   "cell_type": "markdown",
   "metadata": {},
   "source": [
    "## Objectives\n",
    "\n"
   ]
  },
  {
   "cell_type": "markdown",
   "metadata": {},
   "source": [
    "-   Use `matplotlib` to generate plots\n",
    "-   Generate <span class=\"underline\">arrays</span> of numerical values\n",
    "-   Save and load data in CSV format\n",
    "\n"
   ]
  },
  {
   "cell_type": "markdown",
   "metadata": {},
   "source": [
    "## Your first plot\n",
    "\n"
   ]
  },
  {
   "cell_type": "markdown",
   "metadata": {},
   "source": [
    "Let's start with the import statements\n",
    "\n"
   ]
  },
  {
   "cell_type": "code",
   "execution_count": 1,
   "metadata": {},
   "outputs": [],
   "source": [
    "%matplotlib inline\n",
    "import matplotlib.pyplot as plt\n",
    "import numpy as np"
   ]
  },
  {
   "cell_type": "markdown",
   "metadata": {},
   "source": [
    "`matplotlib` is a library that contains a lot of plotting functionality, perhaps more than you will ever know. `NumPy` (Numerical Python) is also incredibly feature rich, but there is too much to explain here. We will start with minimal examples and encourage you to look up additional functions as you find a need for them\n",
    "\n",
    "Two comments above. The `%` indicates a special keyword for ipython. This is an example of what's called a magic function (find a more complete list here). The second new thing we introduced is the `as` keyword. What this syntax indicates is we want to be able to refer to a particular library or module by a nickname\n",
    "\n"
   ]
  },
  {
   "cell_type": "code",
   "execution_count": 1,
   "metadata": {},
   "outputs": [],
   "source": [
    "x_array = np.linspace(0, 2 * np.pi, 101) # create an array of 101 numbers equally spaced between 0 and 2pi\n",
    "y_array = np.sin(x_array) # calculate the sine of each of the points\n",
    "plt.plot(x_array, y_array)"
   ]
  },
  {
   "cell_type": "markdown",
   "metadata": {},
   "source": [
    "Now that we've got something working, let's dig a little deeper.\n",
    "\n",
    "By the way, you are highly encouraged to copy cells or insert new ones to play around with the variables. One thing that is helpful is the `?` functionality. Try running the following cell\n",
    "\n"
   ]
  },
  {
   "cell_type": "code",
   "execution_count": 1,
   "metadata": {},
   "outputs": [],
   "source": [
    "np.sin?"
   ]
  },
  {
   "cell_type": "markdown",
   "metadata": {},
   "source": [
    "This should bring up <span class=\"underline\">documentation</span> or information about how the function works, what it's expecting, and what it returns. It also (usually) explains what arguments the function is expecting and additional optional parameters.\n",
    "\n"
   ]
  },
  {
   "cell_type": "markdown",
   "metadata": {},
   "source": [
    "## Numpy arrays\n",
    "\n"
   ]
  },
  {
   "cell_type": "markdown",
   "metadata": {},
   "source": [
    "In the previous notebook we talked about lists as a way to store multiple objects. NumPy Arrays are another datatype which are very closely related, except they make dealing with numbers much earlier. The simplest explanation is that an array is like a vector. One distinction between this and a list is that a vector has objects that are all the same type.\n",
    "\n",
    "For example, if you multiply a vector by 2, you can simply multiply each element by 2.\n",
    "\n"
   ]
  },
  {
   "cell_type": "code",
   "execution_count": 1,
   "metadata": {},
   "outputs": [],
   "source": [
    "my_array = np.array([1, 2, 3, 4, 5])\n",
    "print(2 * my_array)"
   ]
  },
  {
   "cell_type": "markdown",
   "metadata": {},
   "source": [
    "Not all things in Python are this intuitive. While generally it doesn't hurt to experiment and there are plenty of nice surprises, occasionally you will find some seemingly odd behavior.\n",
    "\n",
    "For example, what happens if you multiply a list of numbers by 2?\n",
    "\n"
   ]
  },
  {
   "cell_type": "code",
   "execution_count": 1,
   "metadata": {},
   "outputs": [],
   "source": [
    "my_list = [1, 2, 3, 4, 5]\n",
    "print(2 * my_list)"
   ]
  },
  {
   "cell_type": "markdown",
   "metadata": {},
   "source": [
    "As you can see, it might not be what we expected, but it can certainly be helpful in other contexts.\n",
    "\n",
    "\\#+ipynb-newcela\n",
    "\n",
    "A very nice feature of arrays is that they do automatic <span class=\"underline\">broadcasting</span>, meaning that numpy functions try to infer whether you meant to apply the function to the array or each element in the array. We made use of this in our first plot\n",
    "\n"
   ]
  },
  {
   "cell_type": "code",
   "execution_count": 1,
   "metadata": {},
   "outputs": [],
   "source": [
    "# Calculate sine of some common angles (in radians)\n",
    "print(np.sin(0))\n",
    "print(np.sin(np.pi/2))\n",
    "\n",
    "# Demonstrating broadcasting on arrays\n",
    "print(x_array)\n",
    "print(np.sin(x_array))"
   ]
  },
  {
   "cell_type": "markdown",
   "metadata": {},
   "source": [
    "Note how passing in an array to the sin function returns an array whose entries are the sine of our `x_array`.\n",
    "\n"
   ]
  },
  {
   "cell_type": "markdown",
   "metadata": {},
   "source": [
    "### Indexing arrays\n",
    "\n"
   ]
  },
  {
   "cell_type": "markdown",
   "metadata": {},
   "source": [
    "Getting elements of the array work very similarly to the case of lists. To access specific elements, we can use the indexing techniques we learned earlier.\n",
    "\n",
    "Using the `my_array` variable from earlier\n",
    "\n"
   ]
  },
  {
   "cell_type": "code",
   "execution_count": 1,
   "metadata": {},
   "outputs": [],
   "source": [
    "print(my_array[0]) # remember that the first element is at index 0!\n",
    "print(my_array[-1]) # Should print 5\n",
    "print(my_array[:2]) # When leaving off the start index in a slice, it starts from the beginning"
   ]
  },
  {
   "cell_type": "markdown",
   "metadata": {},
   "source": [
    "### Multi dimensional arrays\n",
    "\n"
   ]
  },
  {
   "cell_type": "markdown",
   "metadata": {},
   "source": [
    "Note: numpy also has rich functionality built in for higher dimensional arrays. Most commonly, you might encounter 2d arrays since these can represent matrices and tables. Their use is just beyond the scope of this introductory material but there are plenty of resources online.\n",
    "\n"
   ]
  },
  {
   "cell_type": "markdown",
   "metadata": {},
   "source": [
    "## Generating data\n",
    "\n"
   ]
  },
  {
   "cell_type": "markdown",
   "metadata": {},
   "source": [
    "In Python, there are many useful ways to generate data, a few of which we've already seen.\n",
    "\n",
    "If you want to generate an array of $n$ points between $a$ and $b$, the function `np.linspace(a, b, n)` will do that for you. This is what we did to create the $x$ points for our sine plot.\n",
    "\n",
    "Similarly, if you want to generate an array of points that are spaced by an interval, you can call the function `np.arange(start, stop, interval)`.\n",
    "\n"
   ]
  },
  {
   "cell_type": "markdown",
   "metadata": {},
   "source": [
    "#### Exercise\n",
    "\n"
   ]
  },
  {
   "cell_type": "markdown",
   "metadata": {},
   "source": [
    "Use the `np.linspace` and `np.arange` to generate an array with the following values `[1, 1.5, 2, 2.5, 3, 3.5, 4, 4.5, 5]`\n",
    "\n"
   ]
  },
  {
   "cell_type": "code",
   "execution_count": 1,
   "metadata": {},
   "outputs": [],
   "source": [
    "# Insert code here"
   ]
  },
  {
   "cell_type": "markdown",
   "metadata": {},
   "source": [
    "## Saving Data\n",
    "\n"
   ]
  },
  {
   "cell_type": "markdown",
   "metadata": {},
   "source": [
    "Saving data is critical for science. Whether it's saving data that's generated for the first time, or saving data as the result of some computation, saving your data is an important step.\n",
    "\n",
    "Depending on the type of data, there are different ways to save your data. For example, text and comma separated files (csv) are probably most common. Different formats have different purposes.\n",
    "Luckily, numpy provides a function for that.  Probably the most common data we'll use in physics is numerical data, so we will use the csv format since it can also be easily viewed in other programs.\n",
    "\n"
   ]
  },
  {
   "cell_type": "code",
   "execution_count": 1,
   "metadata": {},
   "outputs": [],
   "source": [
    "my_integers = np.array([1, 2, 3, 4, 5])\n",
    "my_squares = my_integers**2   # remember the funny syntax for exponents\n",
    "filename = \"saved_squares.csv\"\n",
    "np.savetxt(filename, my_squares, delimiter=',')"
   ]
  },
  {
   "cell_type": "markdown",
   "metadata": {},
   "source": [
    "### Where does it get saved?\n",
    "\n"
   ]
  },
  {
   "cell_type": "markdown",
   "metadata": {},
   "source": [
    "Much like your own computer, the computer this notebook is running on has a <span class=\"underline\">file system</span>. This is a fancy way of referring to the folders and files such as `Documents` or `Downloads`. When you save data in this way, it gets put in the same folder that the notebook lives. You can save it in a different folder by specifying the <span class=\"underline\">path</span> to a different folder.\n",
    "\n"
   ]
  },
  {
   "cell_type": "markdown",
   "metadata": {},
   "source": [
    "## Loading Data\n",
    "\n"
   ]
  },
  {
   "cell_type": "markdown",
   "metadata": {},
   "source": [
    "Saving data is pretty useless if you don't have a way to access it later. Luckily, there is a corresponding method also available in numpy.\n",
    "\n"
   ]
  },
  {
   "cell_type": "code",
   "execution_count": 1,
   "metadata": {},
   "outputs": [],
   "source": [
    "loaded_data = np.loadtxt(filename)\n",
    "print(loaded_data)"
   ]
  },
  {
   "cell_type": "markdown",
   "metadata": {},
   "source": [
    "It's really that simple!\n",
    "\n"
   ]
  },
  {
   "cell_type": "markdown",
   "metadata": {},
   "source": [
    "Note: there are many utilities for loading in data from files depending on the application. Because we are primarily dealing with numerical data, the `savetxt` and `loadtxt` routines will probably be most helpful. For more general purposes, consider looking at the documentation for file reading\n",
    "\n"
   ]
  },
  {
   "cell_type": "markdown",
   "metadata": {},
   "source": [
    "### Exercise: Plotting motion\n",
    "\n"
   ]
  },
  {
   "cell_type": "markdown",
   "metadata": {},
   "source": [
    "Using the position function written in notebook 1, plot the motion of a rabbit that starts at .1 m/s and accelerates at a rate .05 m/s<sup>2</sup> over the course of 10 seconds.\n",
    "\n"
   ]
  },
  {
   "cell_type": "code",
   "execution_count": 1,
   "metadata": {},
   "outputs": [],
   "source": [
    "# generate an array of times using linspace or arange\n",
    "# define the position function\n",
    "# plt.plot(t_array, pos_array)"
   ]
  },
  {
   "cell_type": "markdown",
   "metadata": {},
   "source": [
    "### Exercise: Plotting Random Numbers\n",
    "\n"
   ]
  },
  {
   "cell_type": "markdown",
   "metadata": {},
   "source": [
    "Use the function `np.random.uniform` to generate a 100 (x,y) coordinate pairs. Then use `plt.scatter` to plot them.\n",
    "\n"
   ]
  },
  {
   "cell_type": "markdown",
   "metadata": {},
   "source": [
    "### Exercise: Documentation\n",
    "\n"
   ]
  },
  {
   "cell_type": "markdown",
   "metadata": {},
   "source": [
    "Being able to read documentation is very daunting at first, but extremely helpful in figuring out how to unlock new functions to add to your toolbelt. The format isn't the most beginner friendly, but there's enough predictability reading new documentation takes less time as you read more.\n",
    "\n"
   ]
  },
  {
   "cell_type": "markdown",
   "metadata": {},
   "source": [
    "Try looking up the documentation for `np.linspace` and `np.arange`.\n",
    "\n"
   ]
  },
  {
   "cell_type": "code",
   "execution_count": 1,
   "metadata": {},
   "outputs": [],
   "source": [
    "np.linspace?"
   ]
  },
  {
   "cell_type": "markdown",
   "metadata": {},
   "source": [
    "What is common to the documentation for these pages?\n",
    "\n"
   ]
  },
  {
   "cell_type": "markdown",
   "metadata": {},
   "source": [
    "### Exercise: Plot Customization\n",
    "\n"
   ]
  },
  {
   "cell_type": "markdown",
   "metadata": {},
   "source": [
    "Use the documentation of `plt.plot` to figure how to modify our first plot. As a starting point, try customizing the line to be red and dashed. Then, you can play with it to match your own preferred style.\n",
    "\n"
   ]
  }
 ],
 "metadata": {
  "kernelspec": {
   "display_name": "Python 3",
   "language": "python",
   "name": "python3"
  },
  "language_info": {
   "codemirror_mode": {
    "name": "ipython",
    "version": 3
   },
   "file_extension": ".py",
   "mimetype": "text/x-python",
   "name": "python",
   "nbconvert_exporter": "python",
   "pygments_lexer": "ipython3",
   "version": "3.7.6"
  },
  "org": null
 },
 "nbformat": 4,
 "nbformat_minor": 1
}
